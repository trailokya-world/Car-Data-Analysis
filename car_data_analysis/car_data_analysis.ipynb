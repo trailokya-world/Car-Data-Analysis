{
 "cells": [
  {
   "cell_type": "code",
   "execution_count": 134,
   "id": "3a1b4e73",
   "metadata": {},
   "outputs": [],
   "source": [
    "import pandas as pd\n",
    "import seaborn as sns\n",
    "import matplotlib.pyplot as plt \n",
    "import numpy as np"
   ]
  },
  {
   "cell_type": "code",
   "execution_count": 135,
   "id": "883b586f",
   "metadata": {},
   "outputs": [
    {
     "data": {
      "text/html": [
       "<div>\n",
       "<style scoped>\n",
       "    .dataframe tbody tr th:only-of-type {\n",
       "        vertical-align: middle;\n",
       "    }\n",
       "\n",
       "    .dataframe tbody tr th {\n",
       "        vertical-align: top;\n",
       "    }\n",
       "\n",
       "    .dataframe thead th {\n",
       "        text-align: right;\n",
       "    }\n",
       "</style>\n",
       "<table border=\"1\" class=\"dataframe\">\n",
       "  <thead>\n",
       "    <tr style=\"text-align: right;\">\n",
       "      <th></th>\n",
       "      <th>Make</th>\n",
       "      <th>Model</th>\n",
       "      <th>Type</th>\n",
       "      <th>Origin</th>\n",
       "      <th>DriveTrain</th>\n",
       "      <th>MSRP</th>\n",
       "      <th>Invoice</th>\n",
       "      <th>EngineSize</th>\n",
       "      <th>Cylinders</th>\n",
       "      <th>Horsepower</th>\n",
       "      <th>MPG_City</th>\n",
       "      <th>MPG_Highway</th>\n",
       "      <th>Weight</th>\n",
       "      <th>Wheelbase</th>\n",
       "      <th>Length</th>\n",
       "    </tr>\n",
       "  </thead>\n",
       "  <tbody>\n",
       "    <tr>\n",
       "      <th>0</th>\n",
       "      <td>Acura</td>\n",
       "      <td>MDX</td>\n",
       "      <td>SUV</td>\n",
       "      <td>Asia</td>\n",
       "      <td>All</td>\n",
       "      <td>$36,945</td>\n",
       "      <td>$33,337</td>\n",
       "      <td>3.5</td>\n",
       "      <td>6.0</td>\n",
       "      <td>265.0</td>\n",
       "      <td>17.0</td>\n",
       "      <td>23.0</td>\n",
       "      <td>4451.0</td>\n",
       "      <td>106.0</td>\n",
       "      <td>189.0</td>\n",
       "    </tr>\n",
       "    <tr>\n",
       "      <th>1</th>\n",
       "      <td>Acura</td>\n",
       "      <td>RSX Type S 2dr</td>\n",
       "      <td>Sedan</td>\n",
       "      <td>Asia</td>\n",
       "      <td>Front</td>\n",
       "      <td>$23,820</td>\n",
       "      <td>$21,761</td>\n",
       "      <td>2.0</td>\n",
       "      <td>4.0</td>\n",
       "      <td>200.0</td>\n",
       "      <td>24.0</td>\n",
       "      <td>31.0</td>\n",
       "      <td>2778.0</td>\n",
       "      <td>101.0</td>\n",
       "      <td>172.0</td>\n",
       "    </tr>\n",
       "    <tr>\n",
       "      <th>2</th>\n",
       "      <td>Acura</td>\n",
       "      <td>TSX 4dr</td>\n",
       "      <td>Sedan</td>\n",
       "      <td>Asia</td>\n",
       "      <td>Front</td>\n",
       "      <td>$26,990</td>\n",
       "      <td>$24,647</td>\n",
       "      <td>2.4</td>\n",
       "      <td>4.0</td>\n",
       "      <td>200.0</td>\n",
       "      <td>22.0</td>\n",
       "      <td>29.0</td>\n",
       "      <td>3230.0</td>\n",
       "      <td>105.0</td>\n",
       "      <td>183.0</td>\n",
       "    </tr>\n",
       "    <tr>\n",
       "      <th>3</th>\n",
       "      <td>Acura</td>\n",
       "      <td>TL 4dr</td>\n",
       "      <td>Sedan</td>\n",
       "      <td>Asia</td>\n",
       "      <td>Front</td>\n",
       "      <td>$33,195</td>\n",
       "      <td>$30,299</td>\n",
       "      <td>3.2</td>\n",
       "      <td>6.0</td>\n",
       "      <td>270.0</td>\n",
       "      <td>20.0</td>\n",
       "      <td>28.0</td>\n",
       "      <td>3575.0</td>\n",
       "      <td>108.0</td>\n",
       "      <td>186.0</td>\n",
       "    </tr>\n",
       "    <tr>\n",
       "      <th>4</th>\n",
       "      <td>Acura</td>\n",
       "      <td>3.5 RL 4dr</td>\n",
       "      <td>Sedan</td>\n",
       "      <td>Asia</td>\n",
       "      <td>Front</td>\n",
       "      <td>$43,755</td>\n",
       "      <td>$39,014</td>\n",
       "      <td>3.5</td>\n",
       "      <td>6.0</td>\n",
       "      <td>225.0</td>\n",
       "      <td>18.0</td>\n",
       "      <td>24.0</td>\n",
       "      <td>3880.0</td>\n",
       "      <td>115.0</td>\n",
       "      <td>197.0</td>\n",
       "    </tr>\n",
       "  </tbody>\n",
       "</table>\n",
       "</div>"
      ],
      "text/plain": [
       "    Make           Model   Type Origin DriveTrain      MSRP   Invoice  \\\n",
       "0  Acura             MDX    SUV   Asia        All  $36,945   $33,337    \n",
       "1  Acura  RSX Type S 2dr  Sedan   Asia      Front  $23,820   $21,761    \n",
       "2  Acura         TSX 4dr  Sedan   Asia      Front  $26,990   $24,647    \n",
       "3  Acura          TL 4dr  Sedan   Asia      Front  $33,195   $30,299    \n",
       "4  Acura      3.5 RL 4dr  Sedan   Asia      Front  $43,755   $39,014    \n",
       "\n",
       "   EngineSize  Cylinders  Horsepower  MPG_City  MPG_Highway  Weight  \\\n",
       "0         3.5        6.0       265.0      17.0         23.0  4451.0   \n",
       "1         2.0        4.0       200.0      24.0         31.0  2778.0   \n",
       "2         2.4        4.0       200.0      22.0         29.0  3230.0   \n",
       "3         3.2        6.0       270.0      20.0         28.0  3575.0   \n",
       "4         3.5        6.0       225.0      18.0         24.0  3880.0   \n",
       "\n",
       "   Wheelbase  Length  \n",
       "0      106.0   189.0  \n",
       "1      101.0   172.0  \n",
       "2      105.0   183.0  \n",
       "3      108.0   186.0  \n",
       "4      115.0   197.0  "
      ]
     },
     "execution_count": 135,
     "metadata": {},
     "output_type": "execute_result"
    }
   ],
   "source": [
    "data = pd.read_csv(\"C:\\\\Users\\\\PAWAN\\\\Downloads\\\\Project+2+-+Cars+Dataset.csv\")\n",
    "data= data.dropna()\n",
    "data.head()"
   ]
  },
  {
   "cell_type": "code",
   "execution_count": 136,
   "id": "9d8aaff6",
   "metadata": {},
   "outputs": [],
   "source": [
    "data[\"MPG\"]=(data[\"MPG_City\"]+data[\"MPG_Highway\"])/2"
   ]
  },
  {
   "cell_type": "markdown",
   "id": "61b1a19e",
   "metadata": {},
   "source": [
    "## 1. Data Understanding\n",
    "\n"
   ]
  },
  {
   "cell_type": "markdown",
   "id": "6bacf7df",
   "metadata": {},
   "source": [
    "What is the shape of the dataset (rows × columns)?\n",
    "\n"
   ]
  },
  {
   "cell_type": "code",
   "execution_count": 137,
   "id": "b2c9d2e3",
   "metadata": {},
   "outputs": [
    {
     "data": {
      "text/plain": [
       "(426, 16)"
      ]
     },
     "execution_count": 137,
     "metadata": {},
     "output_type": "execute_result"
    }
   ],
   "source": [
    "data.shape"
   ]
  },
  {
   "cell_type": "markdown",
   "id": "a3ed57f4",
   "metadata": {},
   "source": [
    "What are the data types of each column (categorical, numerical, etc.)?\n",
    "\n"
   ]
  },
  {
   "cell_type": "code",
   "execution_count": 138,
   "id": "6c2cab9b",
   "metadata": {},
   "outputs": [
    {
     "data": {
      "text/plain": [
       "Make            object\n",
       "Model           object\n",
       "Type            object\n",
       "Origin          object\n",
       "DriveTrain      object\n",
       "MSRP            object\n",
       "Invoice         object\n",
       "EngineSize     float64\n",
       "Cylinders      float64\n",
       "Horsepower     float64\n",
       "MPG_City       float64\n",
       "MPG_Highway    float64\n",
       "Weight         float64\n",
       "Wheelbase      float64\n",
       "Length         float64\n",
       "MPG            float64\n",
       "dtype: object"
      ]
     },
     "execution_count": 138,
     "metadata": {},
     "output_type": "execute_result"
    }
   ],
   "source": [
    "data.dtypes"
   ]
  },
  {
   "cell_type": "markdown",
   "id": "0db0c636",
   "metadata": {},
   "source": [
    "Are there missing values? How many per column?\n",
    "\n"
   ]
  },
  {
   "cell_type": "code",
   "execution_count": 139,
   "id": "023da540",
   "metadata": {},
   "outputs": [
    {
     "data": {
      "text/plain": [
       "Make           0\n",
       "Model          0\n",
       "Type           0\n",
       "Origin         0\n",
       "DriveTrain     0\n",
       "MSRP           0\n",
       "Invoice        0\n",
       "EngineSize     0\n",
       "Cylinders      0\n",
       "Horsepower     0\n",
       "MPG_City       0\n",
       "MPG_Highway    0\n",
       "Weight         0\n",
       "Wheelbase      0\n",
       "Length         0\n",
       "MPG            0\n",
       "dtype: int64"
      ]
     },
     "execution_count": 139,
     "metadata": {},
     "output_type": "execute_result"
    }
   ],
   "source": [
    "data.isnull().sum()"
   ]
  },
  {
   "cell_type": "markdown",
   "id": "874770a4",
   "metadata": {},
   "source": [
    "Are there duplicate rows or columns?\n",
    "\n"
   ]
  },
  {
   "cell_type": "code",
   "execution_count": 140,
   "id": "b7998398",
   "metadata": {},
   "outputs": [
    {
     "data": {
      "text/plain": [
       "np.int64(0)"
      ]
     },
     "execution_count": 140,
     "metadata": {},
     "output_type": "execute_result"
    }
   ],
   "source": [
    "data.duplicated().sum()"
   ]
  },
  {
   "cell_type": "markdown",
   "id": "3125024f",
   "metadata": {},
   "source": [
    "What is the summary of numerical columns (mean, median, min, max, std)?\n",
    "\n"
   ]
  },
  {
   "cell_type": "code",
   "execution_count": 141,
   "id": "1b802c68",
   "metadata": {},
   "outputs": [
    {
     "data": {
      "text/html": [
       "<div>\n",
       "<style scoped>\n",
       "    .dataframe tbody tr th:only-of-type {\n",
       "        vertical-align: middle;\n",
       "    }\n",
       "\n",
       "    .dataframe tbody tr th {\n",
       "        vertical-align: top;\n",
       "    }\n",
       "\n",
       "    .dataframe thead th {\n",
       "        text-align: right;\n",
       "    }\n",
       "</style>\n",
       "<table border=\"1\" class=\"dataframe\">\n",
       "  <thead>\n",
       "    <tr style=\"text-align: right;\">\n",
       "      <th></th>\n",
       "      <th>EngineSize</th>\n",
       "      <th>Cylinders</th>\n",
       "      <th>Horsepower</th>\n",
       "      <th>MPG_City</th>\n",
       "      <th>MPG_Highway</th>\n",
       "      <th>Weight</th>\n",
       "      <th>Wheelbase</th>\n",
       "      <th>Length</th>\n",
       "      <th>MPG</th>\n",
       "    </tr>\n",
       "  </thead>\n",
       "  <tbody>\n",
       "    <tr>\n",
       "      <th>count</th>\n",
       "      <td>426.000000</td>\n",
       "      <td>426.000000</td>\n",
       "      <td>426.000000</td>\n",
       "      <td>426.000000</td>\n",
       "      <td>426.000000</td>\n",
       "      <td>426.000000</td>\n",
       "      <td>426.000000</td>\n",
       "      <td>426.000000</td>\n",
       "      <td>426.000000</td>\n",
       "    </tr>\n",
       "    <tr>\n",
       "      <th>mean</th>\n",
       "      <td>3.205634</td>\n",
       "      <td>5.807512</td>\n",
       "      <td>215.877934</td>\n",
       "      <td>20.070423</td>\n",
       "      <td>26.854460</td>\n",
       "      <td>3580.474178</td>\n",
       "      <td>108.164319</td>\n",
       "      <td>186.420188</td>\n",
       "      <td>23.462441</td>\n",
       "    </tr>\n",
       "    <tr>\n",
       "      <th>std</th>\n",
       "      <td>1.103520</td>\n",
       "      <td>1.558443</td>\n",
       "      <td>71.991040</td>\n",
       "      <td>5.248616</td>\n",
       "      <td>5.752335</td>\n",
       "      <td>759.870073</td>\n",
       "      <td>8.330030</td>\n",
       "      <td>14.366611</td>\n",
       "      <td>5.418899</td>\n",
       "    </tr>\n",
       "    <tr>\n",
       "      <th>min</th>\n",
       "      <td>1.400000</td>\n",
       "      <td>3.000000</td>\n",
       "      <td>73.000000</td>\n",
       "      <td>10.000000</td>\n",
       "      <td>12.000000</td>\n",
       "      <td>1850.000000</td>\n",
       "      <td>89.000000</td>\n",
       "      <td>143.000000</td>\n",
       "      <td>11.000000</td>\n",
       "    </tr>\n",
       "    <tr>\n",
       "      <th>25%</th>\n",
       "      <td>2.400000</td>\n",
       "      <td>4.000000</td>\n",
       "      <td>165.000000</td>\n",
       "      <td>17.000000</td>\n",
       "      <td>24.000000</td>\n",
       "      <td>3111.250000</td>\n",
       "      <td>103.000000</td>\n",
       "      <td>178.000000</td>\n",
       "      <td>20.500000</td>\n",
       "    </tr>\n",
       "    <tr>\n",
       "      <th>50%</th>\n",
       "      <td>3.000000</td>\n",
       "      <td>6.000000</td>\n",
       "      <td>210.000000</td>\n",
       "      <td>19.000000</td>\n",
       "      <td>26.000000</td>\n",
       "      <td>3476.000000</td>\n",
       "      <td>107.000000</td>\n",
       "      <td>187.000000</td>\n",
       "      <td>23.000000</td>\n",
       "    </tr>\n",
       "    <tr>\n",
       "      <th>75%</th>\n",
       "      <td>3.900000</td>\n",
       "      <td>6.000000</td>\n",
       "      <td>255.000000</td>\n",
       "      <td>21.750000</td>\n",
       "      <td>29.000000</td>\n",
       "      <td>3979.250000</td>\n",
       "      <td>112.000000</td>\n",
       "      <td>194.000000</td>\n",
       "      <td>25.500000</td>\n",
       "    </tr>\n",
       "    <tr>\n",
       "      <th>max</th>\n",
       "      <td>8.300000</td>\n",
       "      <td>12.000000</td>\n",
       "      <td>500.000000</td>\n",
       "      <td>60.000000</td>\n",
       "      <td>66.000000</td>\n",
       "      <td>7190.000000</td>\n",
       "      <td>144.000000</td>\n",
       "      <td>238.000000</td>\n",
       "      <td>63.000000</td>\n",
       "    </tr>\n",
       "  </tbody>\n",
       "</table>\n",
       "</div>"
      ],
      "text/plain": [
       "       EngineSize   Cylinders  Horsepower    MPG_City  MPG_Highway  \\\n",
       "count  426.000000  426.000000  426.000000  426.000000   426.000000   \n",
       "mean     3.205634    5.807512  215.877934   20.070423    26.854460   \n",
       "std      1.103520    1.558443   71.991040    5.248616     5.752335   \n",
       "min      1.400000    3.000000   73.000000   10.000000    12.000000   \n",
       "25%      2.400000    4.000000  165.000000   17.000000    24.000000   \n",
       "50%      3.000000    6.000000  210.000000   19.000000    26.000000   \n",
       "75%      3.900000    6.000000  255.000000   21.750000    29.000000   \n",
       "max      8.300000   12.000000  500.000000   60.000000    66.000000   \n",
       "\n",
       "            Weight   Wheelbase      Length         MPG  \n",
       "count   426.000000  426.000000  426.000000  426.000000  \n",
       "mean   3580.474178  108.164319  186.420188   23.462441  \n",
       "std     759.870073    8.330030   14.366611    5.418899  \n",
       "min    1850.000000   89.000000  143.000000   11.000000  \n",
       "25%    3111.250000  103.000000  178.000000   20.500000  \n",
       "50%    3476.000000  107.000000  187.000000   23.000000  \n",
       "75%    3979.250000  112.000000  194.000000   25.500000  \n",
       "max    7190.000000  144.000000  238.000000   63.000000  "
      ]
     },
     "execution_count": 141,
     "metadata": {},
     "output_type": "execute_result"
    }
   ],
   "source": [
    "data.describe()"
   ]
  },
  {
   "cell_type": "markdown",
   "id": "81bc7dd8",
   "metadata": {},
   "source": [
    "What is the distribution of categorical variables (e.g., car Make, Type, Origin)?"
   ]
  },
  {
   "cell_type": "code",
   "execution_count": 142,
   "id": "63770d37",
   "metadata": {},
   "outputs": [
    {
     "data": {
      "text/plain": [
       "Index(['Make', 'Model', 'Type', 'Origin', 'DriveTrain', 'MSRP', 'Invoice'], dtype='object')"
      ]
     },
     "execution_count": 142,
     "metadata": {},
     "output_type": "execute_result"
    }
   ],
   "source": [
    "data.select_dtypes(include=\"object\").columns"
   ]
  },
  {
   "cell_type": "code",
   "execution_count": 143,
   "id": "916553de",
   "metadata": {},
   "outputs": [
    {
     "data": {
      "text/html": [
       "<div>\n",
       "<style scoped>\n",
       "    .dataframe tbody tr th:only-of-type {\n",
       "        vertical-align: middle;\n",
       "    }\n",
       "\n",
       "    .dataframe tbody tr th {\n",
       "        vertical-align: top;\n",
       "    }\n",
       "\n",
       "    .dataframe thead th {\n",
       "        text-align: right;\n",
       "    }\n",
       "</style>\n",
       "<table border=\"1\" class=\"dataframe\">\n",
       "  <thead>\n",
       "    <tr style=\"text-align: right;\">\n",
       "      <th></th>\n",
       "      <th>MSRP</th>\n",
       "      <th>Invoice</th>\n",
       "    </tr>\n",
       "  </thead>\n",
       "  <tbody>\n",
       "    <tr>\n",
       "      <th>0</th>\n",
       "      <td>$36,945</td>\n",
       "      <td>$33,337</td>\n",
       "    </tr>\n",
       "    <tr>\n",
       "      <th>1</th>\n",
       "      <td>$23,820</td>\n",
       "      <td>$21,761</td>\n",
       "    </tr>\n",
       "    <tr>\n",
       "      <th>2</th>\n",
       "      <td>$26,990</td>\n",
       "      <td>$24,647</td>\n",
       "    </tr>\n",
       "    <tr>\n",
       "      <th>3</th>\n",
       "      <td>$33,195</td>\n",
       "      <td>$30,299</td>\n",
       "    </tr>\n",
       "    <tr>\n",
       "      <th>4</th>\n",
       "      <td>$43,755</td>\n",
       "      <td>$39,014</td>\n",
       "    </tr>\n",
       "    <tr>\n",
       "      <th>...</th>\n",
       "      <td>...</td>\n",
       "      <td>...</td>\n",
       "    </tr>\n",
       "    <tr>\n",
       "      <th>427</th>\n",
       "      <td>$40,565</td>\n",
       "      <td>$38,203</td>\n",
       "    </tr>\n",
       "    <tr>\n",
       "      <th>428</th>\n",
       "      <td>$42,565</td>\n",
       "      <td>$40,083</td>\n",
       "    </tr>\n",
       "    <tr>\n",
       "      <th>429</th>\n",
       "      <td>$45,210</td>\n",
       "      <td>$42,573</td>\n",
       "    </tr>\n",
       "    <tr>\n",
       "      <th>430</th>\n",
       "      <td>$26,135</td>\n",
       "      <td>$24,641</td>\n",
       "    </tr>\n",
       "    <tr>\n",
       "      <th>431</th>\n",
       "      <td>$35,145</td>\n",
       "      <td>$33,112</td>\n",
       "    </tr>\n",
       "  </tbody>\n",
       "</table>\n",
       "<p>426 rows × 2 columns</p>\n",
       "</div>"
      ],
      "text/plain": [
       "         MSRP   Invoice\n",
       "0    $36,945   $33,337 \n",
       "1    $23,820   $21,761 \n",
       "2    $26,990   $24,647 \n",
       "3    $33,195   $30,299 \n",
       "4    $43,755   $39,014 \n",
       "..        ...       ...\n",
       "427  $40,565   $38,203 \n",
       "428  $42,565   $40,083 \n",
       "429  $45,210   $42,573 \n",
       "430  $26,135   $24,641 \n",
       "431  $35,145   $33,112 \n",
       "\n",
       "[426 rows x 2 columns]"
      ]
     },
     "execution_count": 143,
     "metadata": {},
     "output_type": "execute_result"
    }
   ],
   "source": [
    "data[[\"MSRP\",\"Invoice\"]]"
   ]
  },
  {
   "cell_type": "code",
   "execution_count": 144,
   "id": "200e3f59",
   "metadata": {},
   "outputs": [
    {
     "name": "stdout",
     "output_type": "stream",
     "text": [
      "Make: 38\n",
      "Model: 423\n",
      "Type: 6\n",
      "Origin: 3\n",
      "DriveTrain: 3\n",
      "MSRP: 409\n"
     ]
    }
   ],
   "source": [
    "for i in data.drop(columns=[\"Invoice\"]).select_dtypes(include=\"object\").columns:\n",
    "    \n",
    "    print(f\"{i}: {data[i].nunique()}\")"
   ]
  },
  {
   "cell_type": "code",
   "execution_count": 145,
   "id": "fbb7ff48",
   "metadata": {},
   "outputs": [
    {
     "name": "stdout",
     "output_type": "stream",
     "text": [
      "Make\n",
      "Toyota           28\n",
      "Chevrolet        27\n",
      "Mercedes-Benz    26\n",
      "Ford             23\n",
      "BMW              20\n",
      "Audi             19\n",
      "Nissan           17\n",
      "Honda            17\n",
      "Chrysler         15\n",
      "Volkswagen       15\n",
      "Mitsubishi       13\n",
      "Dodge            13\n",
      "Volvo            12\n",
      "Hyundai          12\n",
      "Jaguar           12\n",
      "Pontiac          11\n",
      "Kia              11\n",
      "Subaru           11\n",
      "Lexus            11\n",
      "Mazda             9\n",
      "Buick             9\n",
      "Mercury           9\n",
      "Lincoln           9\n",
      "Cadillac          8\n",
      "GMC               8\n",
      "Saturn            8\n",
      "Suzuki            8\n",
      "Infiniti          8\n",
      "Acura             7\n",
      "Saab              7\n",
      "Porsche           7\n",
      "Land Rover        3\n",
      "Oldsmobile        3\n",
      "Jeep              3\n",
      "Isuzu             2\n",
      "MINI              2\n",
      "Scion             2\n",
      "Hummer            1\n",
      "Name: count, dtype: int64\n",
      "Model\n",
      "G35 4dr                           2\n",
      "C240 4dr                          2\n",
      "C320 4dr                          2\n",
      "XC70                              1\n",
      "MDX                               1\n",
      "                                 ..\n",
      "A8 L Quattro 4dr                  1\n",
      "S4 Quattro 4dr                    1\n",
      "RS 6 4dr                          1\n",
      "TT 1.8 convertible 2dr (coupe)    1\n",
      "Phaeton W12 4dr                   1\n",
      "Name: count, Length: 423, dtype: int64\n",
      "Type\n",
      "Sedan     262\n",
      "SUV        60\n",
      "Sports     47\n",
      "Wagon      30\n",
      "Truck      24\n",
      "Hybrid      3\n",
      "Name: count, dtype: int64\n",
      "Origin\n",
      "Asia      156\n",
      "USA       147\n",
      "Europe    123\n",
      "Name: count, dtype: int64\n",
      "DriveTrain\n",
      "Front    226\n",
      "Rear     108\n",
      "All       92\n",
      "Name: count, dtype: int64\n",
      "MSRP\n",
      "$34,495     2\n",
      "$33,995     2\n",
      "$23,495     2\n",
      "$28,495     2\n",
      "$13,270     2\n",
      "           ..\n",
      "$84,600     1\n",
      "$37,390     1\n",
      "$40,590     1\n",
      "$40,840     1\n",
      "$31,840     1\n",
      "Name: count, Length: 409, dtype: int64\n",
      "Invoice\n",
      "$14,207     2\n",
      "$19,638     2\n",
      "$68,306     2\n",
      "$59,912     1\n",
      "$23,508     1\n",
      "           ..\n",
      "$64,740     1\n",
      "$43,556     1\n",
      "$76,417     1\n",
      "$32,512     1\n",
      "$69,130     1\n",
      "Name: count, Length: 423, dtype: int64\n"
     ]
    }
   ],
   "source": [
    "for i in data.select_dtypes(include=\"object\").columns:\n",
    "    \n",
    "    print(data[i].value_counts())"
   ]
  },
  {
   "cell_type": "markdown",
   "id": "b28c487c",
   "metadata": {},
   "source": [
    "Visualize with bar plots"
   ]
  },
  {
   "cell_type": "code",
   "execution_count": 146,
   "id": "c5bf4845",
   "metadata": {},
   "outputs": [
    {
     "data": {
      "image/png": "[encoded data removed]",
      "text/plain": [
       "<Figure size 1200x600 with 1 Axes>"
      ]
     },
     "metadata": {},
     "output_type": "display_data"
    },
    {
     "data": {
      "image/png": "[encoded data removed]",
      "text/plain": [
       "<Figure size 1200x600 with 1 Axes>"
      ]
     },
     "metadata": {},
     "output_type": "display_data"
    },
    {
     "data": {
      "image/png": "[encoded data removed]",
      "text/plain": [
       "<Figure size 1200x600 with 1 Axes>"
      ]
     },
     "metadata": {},
     "output_type": "display_data"
    }
   ],
   "source": [
    "# plt.subplot(nrows, ncols, index)\n",
    "\n",
    "plt.figure(figsize=(12,6))\n",
    "sns.countplot(data=data, x='Make', order=data['Make'].value_counts().index)\n",
    "plt.xticks(rotation=90)\n",
    "plt.title(\"Distribution of Car Make\")\n",
    "plt.show()\n",
    "\n",
    "plt.figure(figsize=(12,6))\n",
    "sns.countplot(data=data, x='Origin', order=data['Origin'].value_counts().index)\n",
    "plt.xticks(rotation=90)\n",
    "plt.title(\"Distribution of Car Make\")\n",
    "plt.show()\n",
    "\n",
    "plt.figure(figsize=(12,6))\n",
    "sns.countplot(data=data, x='DriveTrain', order=data['DriveTrain'].value_counts().index)\n",
    "plt.xticks(rotation=90)\n",
    "plt.title(\"Distribution of Car Make\")\n",
    "plt.show()"
   ]
  },
  {
   "cell_type": "markdown",
   "id": "6268d4f5",
   "metadata": {},
   "source": [
    "2. Univariate Analysis (One variable at a time)\n",
    "\n",
    "What is the most expensive car (MSRP) and the least expensive?\n",
    "\n"
   ]
  },
  {
   "cell_type": "code",
   "execution_count": 147,
   "id": "3e47dd2e",
   "metadata": {},
   "outputs": [],
   "source": [
    "data[\"MSRP\"]=data[\"MSRP\"].convert_dtypes(\"float\")"
   ]
  },
  {
   "cell_type": "code",
   "execution_count": 148,
   "id": "f7572002",
   "metadata": {},
   "outputs": [
    {
     "name": "stdout",
     "output_type": "stream",
     "text": [
      "Most Expensive\n"
     ]
    },
    {
     "data": {
      "text/html": [
       "<div>\n",
       "<style scoped>\n",
       "    .dataframe tbody tr th:only-of-type {\n",
       "        vertical-align: middle;\n",
       "    }\n",
       "\n",
       "    .dataframe tbody tr th {\n",
       "        vertical-align: top;\n",
       "    }\n",
       "\n",
       "    .dataframe thead th {\n",
       "        text-align: right;\n",
       "    }\n",
       "</style>\n",
       "<table border=\"1\" class=\"dataframe\">\n",
       "  <thead>\n",
       "    <tr style=\"text-align: right;\">\n",
       "      <th></th>\n",
       "      <th>Make</th>\n",
       "      <th>Model</th>\n",
       "      <th>MSRP</th>\n",
       "    </tr>\n",
       "  </thead>\n",
       "  <tbody>\n",
       "    <tr>\n",
       "      <th>265</th>\n",
       "      <td>Mercedes-Benz</td>\n",
       "      <td>CL500 2dr</td>\n",
       "      <td>$94,820</td>\n",
       "    </tr>\n",
       "  </tbody>\n",
       "</table>\n",
       "</div>"
      ],
      "text/plain": [
       "              Make      Model      MSRP\n",
       "265  Mercedes-Benz  CL500 2dr  $94,820 "
      ]
     },
     "execution_count": 148,
     "metadata": {},
     "output_type": "execute_result"
    }
   ],
   "source": [
    "print(\"Most Expensive\")\n",
    "data[[\"Make\",\"Model\",\"MSRP\"]][data[\"MSRP\"]==data[\"MSRP\"].max()]\n"
   ]
  },
  {
   "cell_type": "code",
   "execution_count": 149,
   "id": "063af012",
   "metadata": {},
   "outputs": [
    {
     "name": "stdout",
     "output_type": "stream",
     "text": [
      "Least Expensive\n"
     ]
    },
    {
     "data": {
      "text/html": [
       "<div>\n",
       "<style scoped>\n",
       "    .dataframe tbody tr th:only-of-type {\n",
       "        vertical-align: middle;\n",
       "    }\n",
       "\n",
       "    .dataframe tbody tr th {\n",
       "        vertical-align: top;\n",
       "    }\n",
       "\n",
       "    .dataframe thead th {\n",
       "        text-align: right;\n",
       "    }\n",
       "</style>\n",
       "<table border=\"1\" class=\"dataframe\">\n",
       "  <thead>\n",
       "    <tr style=\"text-align: right;\">\n",
       "      <th></th>\n",
       "      <th>Make</th>\n",
       "      <th>Model</th>\n",
       "      <th>MSRP</th>\n",
       "    </tr>\n",
       "  </thead>\n",
       "  <tbody>\n",
       "    <tr>\n",
       "      <th>210</th>\n",
       "      <td>Kia</td>\n",
       "      <td>Rio 4dr manual</td>\n",
       "      <td>$10,280</td>\n",
       "    </tr>\n",
       "  </tbody>\n",
       "</table>\n",
       "</div>"
      ],
      "text/plain": [
       "    Make           Model      MSRP\n",
       "210  Kia  Rio 4dr manual  $10,280 "
      ]
     },
     "execution_count": 149,
     "metadata": {},
     "output_type": "execute_result"
    }
   ],
   "source": [
    "print(\"Least Expensive\")\n",
    "data[[\"Make\",\"Model\",\"MSRP\"]][data[\"MSRP\"]==data[\"MSRP\"].min()]"
   ]
  },
  {
   "cell_type": "markdown",
   "id": "2737cfa2",
   "metadata": {},
   "source": [
    "What is the most common car Type (SUV, Sedan, etc.)?\n",
    "\n"
   ]
  },
  {
   "cell_type": "code",
   "execution_count": 150,
   "id": "312b0941",
   "metadata": {},
   "outputs": [
    {
     "name": "stdout",
     "output_type": "stream",
     "text": [
      "Most Common Car Type: Sedan\n"
     ]
    }
   ],
   "source": [
    "most_common_car_type=data[\"Type\"].mode()[0]\n",
    "print(f\"Most Common Car Type: {most_common_car_type}\")"
   ]
  },
  {
   "cell_type": "markdown",
   "id": "51218f6b",
   "metadata": {},
   "source": [
    "What is the average horsepower, engine size, MPG, etc.?\n",
    "\n"
   ]
  },
  {
   "cell_type": "code",
   "execution_count": 151,
   "id": "1e7ab5e7",
   "metadata": {},
   "outputs": [
    {
     "name": "stdout",
     "output_type": "stream",
     "text": [
      "Average Horsepower 215.87793427230048\n",
      "Average engine size 3.205633802816901\n",
      "Average MPG city 20.070422535211268\n",
      "Average MPG highway 26.854460093896712\n"
     ]
    }
   ],
   "source": [
    "avg_HP = data[\"Horsepower\"].mean()\n",
    "avg_engine_size = data[\"EngineSize\"].mean()\n",
    "avg_MPG_city = data[\"MPG_City\"].mean()\n",
    "avg_MPG_highway = data[\"MPG_Highway\"].mean()\n",
    "\n",
    "print(f\"Average Horsepower {avg_HP}\")\n",
    "print(f\"Average engine size {avg_engine_size}\")\n",
    "print(f\"Average MPG city {avg_MPG_city}\")\n",
    "print(f\"Average MPG highway {avg_MPG_highway}\")"
   ]
  },
  {
   "cell_type": "markdown",
   "id": "8b22fa87",
   "metadata": {},
   "source": [
    "Which Make (brand) has the most models?\n",
    "\n"
   ]
  },
  {
   "cell_type": "code",
   "execution_count": 152,
   "id": "10cbb623",
   "metadata": {},
   "outputs": [
    {
     "data": {
      "text/plain": [
       "'Toyota'"
      ]
     },
     "execution_count": 152,
     "metadata": {},
     "output_type": "execute_result"
    }
   ],
   "source": [
    "data[\"Make\"].value_counts().idxmax()"
   ]
  },
  {
   "cell_type": "code",
   "execution_count": 153,
   "id": "49d2381e",
   "metadata": {},
   "outputs": [
    {
     "data": {
      "image/png": "[encoded data removed]",
      "text/plain": [
       "<Figure size 1600x700 with 1 Axes>"
      ]
     },
     "metadata": {},
     "output_type": "display_data"
    }
   ],
   "source": [
    "most_models = data[\"Make\"].value_counts()\n",
    "plt.figure(figsize=(16,7))\n",
    "plt.bar(most_models.index,most_models.values)\n",
    "plt.xticks(rotation=90)\n",
    "plt.show()"
   ]
  },
  {
   "cell_type": "markdown",
   "id": "8180c854",
   "metadata": {},
   "source": [
    "Which Origin (USA, Asia, Europe) dominates the dataset?"
   ]
  },
  {
   "cell_type": "code",
   "execution_count": 154,
   "id": "acc19556",
   "metadata": {},
   "outputs": [
    {
     "data": {
      "text/plain": [
       "array(['Asia', 'Europe', 'USA'], dtype=object)"
      ]
     },
     "execution_count": 154,
     "metadata": {},
     "output_type": "execute_result"
    }
   ],
   "source": [
    "data[\"Origin\"].unique()"
   ]
  },
  {
   "cell_type": "code",
   "execution_count": 155,
   "id": "0749e1eb",
   "metadata": {},
   "outputs": [
    {
     "data": {
      "image/png": "[encoded data removed]",
      "text/plain": [
       "<Figure size 640x480 with 1 Axes>"
      ]
     },
     "metadata": {},
     "output_type": "display_data"
    }
   ],
   "source": [
    "Origin = data[\"Origin\"].value_counts()\n",
    "\n",
    "plt.barh(Origin.index,Origin.values)\n",
    "plt.show()"
   ]
  },
  {
   "cell_type": "markdown",
   "id": "ecc45c5a",
   "metadata": {},
   "source": [
    "# Multivariate Analysis (More than two variables)\n",
    "\n",
    "What factors (Engine Size, Horsepower, Cylinders, Weight) best explain car Price (MSRP)?"
   ]
  },
  {
   "cell_type": "code",
   "execution_count": 156,
   "id": "ee27a902",
   "metadata": {},
   "outputs": [],
   "source": [
    "data[\"MSRP\"] = (data[\"MSRP\"].replace('[\\$,]', '', regex=True).str.strip().astype(\"float64\"))\n"
   ]
  },
  {
   "cell_type": "code",
   "execution_count": 157,
   "id": "72c5400e",
   "metadata": {},
   "outputs": [
    {
     "name": "stdout",
     "output_type": "stream",
     "text": [
      "0.573238186791028 \n",
      " 0.8272957229087013 \n",
      " 0.6497419270432131 \n",
      " 0.4479869103267083\n"
     ]
    }
   ],
   "source": [
    "print(data[\"MSRP\"].corr(data[\"EngineSize\"]),\n",
    "\"\\n\",data[\"MSRP\"].corr(data[\"Horsepower\"]),\n",
    "\"\\n\",data[\"MSRP\"].corr(data[\"Cylinders\"]),\n",
    "\"\\n\",data[\"MSRP\"].corr(data[\"Weight\"]))"
   ]
  },
  {
   "cell_type": "code",
   "execution_count": 158,
   "id": "4febd7a0",
   "metadata": {},
   "outputs": [
    {
     "data": {
      "text/plain": [
       "<Axes: >"
      ]
     },
     "execution_count": 158,
     "metadata": {},
     "output_type": "execute_result"
    },
    {
     "data": {
      "image/png": "[encoded data removed]",
      "text/plain": [
       "<Figure size 640x480 with 2 Axes>"
      ]
     },
     "metadata": {},
     "output_type": "display_data"
    }
   ],
   "source": [
    "correlation=data[[\"EngineSize\",\"Horsepower\",\"Cylinders\",\"Weight\",\"MSRP\"]].corr()\n",
    "sns.heatmap(correlation)\n"
   ]
  },
  {
   "cell_type": "code",
   "execution_count": 159,
   "id": "f38a91b6",
   "metadata": {},
   "outputs": [
    {
     "data": {
      "text/plain": [
       "<Axes: xlabel='MSRP', ylabel='Weight'>"
      ]
     },
     "execution_count": 159,
     "metadata": {},
     "output_type": "execute_result"
    },
    {
     "data": {
      "image/png": "[encoded data removed]",
      "text/plain": [
       "<Figure size 400x300 with 1 Axes>"
      ]
     },
     "metadata": {},
     "output_type": "display_data"
    },
    {
     "data": {
      "image/png": "[encoded data removed]",
      "text/plain": [
       "<Figure size 400x300 with 1 Axes>"
      ]
     },
     "metadata": {},
     "output_type": "display_data"
    },
    {
     "data": {
      "image/png": "[encoded data removed]",
      "text/plain": [
       "<Figure size 400x300 with 1 Axes>"
      ]
     },
     "metadata": {},
     "output_type": "display_data"
    },
    {
     "data": {
      "image/png": "[encoded data removed]",
      "text/plain": [
       "<Figure size 400x300 with 1 Axes>"
      ]
     },
     "metadata": {},
     "output_type": "display_data"
    }
   ],
   "source": [
    "plt.figure(figsize=(4,3))\n",
    "sns.scatterplot(data=data,x=\"MSRP\",y=\"EngineSize\")\n",
    "\n",
    "plt.figure(figsize=(4,3))\n",
    "sns.scatterplot(data=data,x=\"MSRP\",y=\"Horsepower\")\n",
    "\n",
    "plt.figure(figsize=(4,3))\n",
    "sns.scatterplot(data=data,x=\"MSRP\",y=\"Cylinders\")\n",
    "\n",
    "plt.figure(figsize=(4,3))\n",
    "sns.scatterplot(data=data,x=\"MSRP\",y=\"Weight\")"
   ]
  },
  {
   "cell_type": "code",
   "execution_count": 160,
   "id": "f00c73c1",
   "metadata": {},
   "outputs": [
    {
     "data": {
      "image/png": "[encoded data removed]",
      "text/plain": [
       "<Figure size 597.625x500 with 1 Axes>"
      ]
     },
     "metadata": {},
     "output_type": "display_data"
    },
    {
     "data": {
      "image/png": "[encoded data removed]",
      "text/plain": [
       "<Figure size 597.625x500 with 1 Axes>"
      ]
     },
     "metadata": {},
     "output_type": "display_data"
    }
   ],
   "source": [
    "sns.lmplot(data=data, x='Weight', y='MPG_City', hue='Type', scatter_kws={'alpha':0.6})\n",
    "plt.title(\"Weight vs City MPG (by Type)\")\n",
    "plt.show()\n",
    "\n",
    "sns.lmplot(data=data, x='EngineSize', y='MPG_City', hue='Type', scatter_kws={'alpha':0.6})\n",
    "plt.title(\"Weight vs City MPG (by Type)\")\n",
    "plt.show()"
   ]
  },
  {
   "cell_type": "code",
   "execution_count": 161,
   "id": "43ada497",
   "metadata": {},
   "outputs": [
    {
     "data": {
      "text/plain": [
       "Index(['Make', 'Model', 'Type', 'Origin', 'DriveTrain', 'MSRP', 'Invoice',\n",
       "       'EngineSize', 'Cylinders', 'Horsepower', 'MPG_City', 'MPG_Highway',\n",
       "       'Weight', 'Wheelbase', 'Length', 'MPG'],\n",
       "      dtype='object')"
      ]
     },
     "execution_count": 161,
     "metadata": {},
     "output_type": "execute_result"
    }
   ],
   "source": [
    "data.columns"
   ]
  },
  {
   "cell_type": "markdown",
   "id": "0d652106",
   "metadata": {},
   "source": [
    "Do heavier cars with bigger engines always have lower MPG?\n",
    "\n"
   ]
  },
  {
   "cell_type": "code",
   "execution_count": 162,
   "id": "23d20d63",
   "metadata": {},
   "outputs": [
    {
     "data": {
      "image/png": "[encoded data removed]",
      "text/plain": [
       "<Figure size 640x480 with 1 Axes>"
      ]
     },
     "metadata": {},
     "output_type": "display_data"
    },
    {
     "data": {
      "image/png": "[encoded data removed]",
      "text/plain": [
       "<Figure size 640x480 with 1 Axes>"
      ]
     },
     "metadata": {},
     "output_type": "display_data"
    }
   ],
   "source": [
    "sns.scatterplot(data=data, x=\"MPG_City\",y=\"EngineSize\",hue=\"Type\")\n",
    "plt.show()\n",
    "\n",
    "sns.scatterplot(data=data, x=\"MPG_City\",y=\"Weight\",hue=\"Type\")\n",
    "plt.show()"
   ]
  },
  {
   "cell_type": "markdown",
   "id": "fb3e7821",
   "metadata": {},
   "source": [
    "Are there clear clusters of cars (luxury, economy, sports) if we combine features like horsepower, weight, mpg, and price?"
   ]
  },
  {
   "cell_type": "code",
   "execution_count": 163,
   "id": "8ecbc398",
   "metadata": {},
   "outputs": [
    {
     "data": {
      "text/plain": [
       "Index(['Make', 'Model', 'Type', 'Origin', 'DriveTrain', 'MSRP', 'Invoice',\n",
       "       'EngineSize', 'Cylinders', 'Horsepower', 'MPG_City', 'MPG_Highway',\n",
       "       'Weight', 'Wheelbase', 'Length', 'MPG'],\n",
       "      dtype='object')"
      ]
     },
     "execution_count": 163,
     "metadata": {},
     "output_type": "execute_result"
    }
   ],
   "source": [
    "data.columns"
   ]
  },
  {
   "cell_type": "code",
   "execution_count": 164,
   "id": "ab35ac2d",
   "metadata": {},
   "outputs": [],
   "source": [
    "from sklearn.cluster import KMeans"
   ]
  },
  {
   "cell_type": "code",
   "execution_count": 221,
   "id": "94f8e80f",
   "metadata": {},
   "outputs": [],
   "source": [
    "x=data[[\"Horsepower\",\"Weight\",\"MPG\",\"MSRP\"]].copy()\n",
    "x=x.dropna()\n",
    "\n",
    "from sklearn.preprocessing import StandardScaler\n",
    "\n",
    "scaler = StandardScaler()\n",
    "\n",
    "x_scaled= pd.DataFrame(scaler.fit_transform(x),columns=x.columns)"
   ]
  },
  {
   "cell_type": "code",
   "execution_count": 222,
   "id": "e2139095",
   "metadata": {},
   "outputs": [
    {
     "data": {
      "text/plain": [
       "Horsepower    0\n",
       "Weight        0\n",
       "MPG           0\n",
       "MSRP          0\n",
       "dtype: int64"
      ]
     },
     "execution_count": 222,
     "metadata": {},
     "output_type": "execute_result"
    }
   ],
   "source": [
    "x.isnull().sum()"
   ]
  },
  {
   "cell_type": "code",
   "execution_count": 223,
   "id": "22bfcf1d",
   "metadata": {},
   "outputs": [],
   "source": [
    "K= KMeans(n_clusters=3,random_state=42)\n",
    "\n",
    "clusters= K.fit_predict(x_scaled)"
   ]
  },
  {
   "cell_type": "code",
   "execution_count": 225,
   "id": "7e65a945",
   "metadata": {},
   "outputs": [
    {
     "data": {
      "text/plain": [
       "array([2, 0, 1, 1, 1, 1, 2, 1, 1, 1, 1, 1, 1, 1, 1, 1, 1, 2, 2, 2, 2, 1,\n",
       "       1, 1, 1, 2, 1, 2, 1, 1, 1, 1, 1, 1, 1, 1, 1, 1, 2, 2, 2, 2, 2, 1,\n",
       "       1, 1, 2, 1, 1, 1, 1, 1, 1, 1, 1, 2, 2, 1, 2, 2, 2, 2, 2, 2, 2, 2,\n",
       "       1, 0, 0, 0, 0, 0, 1, 0, 1, 1, 1, 1, 1, 1, 1, 1, 2, 2, 2, 1, 1, 2,\n",
       "       2, 1, 0, 0, 0, 1, 1, 1, 1, 1, 1, 1, 1, 1, 1, 1, 1, 2, 0, 0, 1, 1,\n",
       "       1, 1, 1, 1, 2, 1, 1, 1, 2, 2, 1, 1, 0, 0, 0, 0, 0, 1, 1, 1, 1, 1,\n",
       "       1, 1, 1, 1, 1, 2, 0, 0, 1, 2, 2, 2, 1, 1, 2, 2, 1, 0, 0, 1, 1, 1,\n",
       "       0, 0, 0, 0, 0, 0, 0, 1, 1, 1, 1, 1, 2, 1, 0, 0, 0, 0, 0, 0, 1, 1,\n",
       "       1, 1, 1, 1, 1, 1, 1, 2, 2, 1, 2, 2, 1, 1, 1, 1, 2, 2, 2, 2, 2, 2,\n",
       "       2, 2, 2, 1, 1, 1, 1, 0, 0, 0, 0, 0, 0, 1, 1, 1, 0, 2, 2, 1, 2, 2,\n",
       "       1, 1, 1, 1, 1, 2, 2, 2, 1, 2, 2, 1, 1, 1, 1, 1, 2, 2, 0, 0, 1, 0,\n",
       "       0, 0, 1, 0, 0, 0, 1, 2, 2, 1, 1, 1, 1, 1, 1, 1, 2, 2, 2, 1, 2, 1,\n",
       "       2, 2, 2, 2, 2, 2, 1, 2, 1, 1, 2, 1, 1, 1, 1, 1, 1, 2, 1, 1, 1, 1,\n",
       "       1, 0, 0, 1, 0, 1, 1, 1, 1, 1, 0, 2, 1, 1, 0, 0, 1, 0, 1, 1, 1, 1,\n",
       "       1, 1, 1, 1, 2, 1, 0, 1, 1, 1, 0, 1, 1, 0, 1, 1, 1, 1, 2, 0, 2, 2,\n",
       "       2, 2, 2, 1, 1, 1, 1, 1, 1, 1, 1, 1, 1, 0, 0, 0, 0, 0, 1, 0, 0, 0,\n",
       "       0, 1, 1, 1, 1, 1, 1, 1, 1, 1, 1, 1, 1, 0, 0, 0, 0, 1, 0, 0, 2, 1,\n",
       "       1, 2, 1, 0, 0, 0, 0, 0, 0, 0, 1, 0, 1, 1, 1, 1, 1, 1, 1, 0, 0, 0,\n",
       "       1, 1, 0, 2, 0, 0, 0, 0, 1, 0, 1, 1, 1, 2, 2, 0, 1, 1, 2, 0, 1, 1,\n",
       "       1, 1, 1, 1, 1, 1, 0, 1], dtype=int32)"
      ]
     },
     "execution_count": 225,
     "metadata": {},
     "output_type": "execute_result"
    }
   ],
   "source": [
    "clusters"
   ]
  },
  {
   "cell_type": "code",
   "execution_count": 226,
   "id": "7230b382",
   "metadata": {},
   "outputs": [
    {
     "data": {
      "text/plain": [
       "array([2, 0, 1], dtype=int32)"
      ]
     },
     "execution_count": 226,
     "metadata": {},
     "output_type": "execute_result"
    }
   ],
   "source": [
    "data[\"Clusters\"]=clusters\n",
    "\n",
    "data[\"Clusters\"].unique()"
   ]
  },
  {
   "cell_type": "code",
   "execution_count": 227,
   "id": "79058b0d",
   "metadata": {},
   "outputs": [
    {
     "name": "stdout",
     "output_type": "stream",
     "text": [
      "16588.547368421052\n",
      "29448.605042016807\n",
      "57957.6129032258\n"
     ]
    }
   ],
   "source": [
    "print(data[\"MSRP\"][data[\"Clusters\"]==0].mean())\n",
    "print(data[\"MSRP\"][data[\"Clusters\"]==1].mean())\n",
    "print(data[\"MSRP\"][data[\"Clusters\"]==2].mean())"
   ]
  },
  {
   "cell_type": "code",
   "execution_count": 228,
   "id": "ce475066",
   "metadata": {},
   "outputs": [],
   "source": [
    "data[\"Clusters\"]= data[\"Clusters\"].map({0:\"Economy Cars\",1:\"Sports Cars\",2:\"Luxury Cars\"})"
   ]
  },
  {
   "cell_type": "code",
   "execution_count": 229,
   "id": "4526144b",
   "metadata": {},
   "outputs": [
    {
     "data": {
      "image/png": "[encoded data removed]",
      "text/plain": [
       "<Figure size 640x480 with 1 Axes>"
      ]
     },
     "metadata": {},
     "output_type": "display_data"
    }
   ],
   "source": [
    "cluster= data[\"Clusters\"].value_counts()\n",
    "\n",
    "plt.bar(cluster.index,cluster.values)\n",
    "plt.show()"
   ]
  },
  {
   "cell_type": "markdown",
   "id": "51c83bf4",
   "metadata": {},
   "source": [
    "# 5. Business/Domain-Oriented Questions\n",
    "\n",
    "What is the profit margin (MSRP – Invoice) for different car brands?\n",
    "\n"
   ]
  },
  {
   "cell_type": "code",
   "execution_count": 230,
   "id": "39a57050",
   "metadata": {},
   "outputs": [],
   "source": [
    "data[\"Invoice\"] = data[\"Invoice\"].replace(\"[\\$,]\", \"\",regex=True).astype(\"float\")"
   ]
  },
  {
   "cell_type": "code",
   "execution_count": 231,
   "id": "80940316",
   "metadata": {},
   "outputs": [],
   "source": [
    "data[\"ProfitMargin\"]= data[\"MSRP\"]-data[\"Invoice\"]\n",
    "\n",
    "\n",
    "profitmargin= data.groupby(\"Make\")[\"ProfitMargin\"].mean().sort_values(ascending = False)"
   ]
  },
  {
   "cell_type": "code",
   "execution_count": 232,
   "id": "6f6a947b",
   "metadata": {},
   "outputs": [
    {
     "data": {
      "image/png": "[encoded data removed]",
      "text/plain": [
       "<Figure size 1800x700 with 1 Axes>"
      ]
     },
     "metadata": {},
     "output_type": "display_data"
    }
   ],
   "source": [
    "plt.figure(figsize=(18,7))\n",
    "plt.bar(profitmargin.index, profitmargin.values)\n",
    "plt.title(\"Profit Margin\")\n",
    "plt.xticks(rotation =90)\n",
    "plt.show()"
   ]
  },
  {
   "cell_type": "markdown",
   "id": "225cf433",
   "metadata": {},
   "source": [
    "Which car manufacturers price their vehicles the highest relative to engine power?\n",
    "\n"
   ]
  },
  {
   "cell_type": "code",
   "execution_count": 233,
   "id": "0d3ca440",
   "metadata": {},
   "outputs": [],
   "source": [
    "data_new = data\n",
    "data_new[\"Price_per_HP\"]= data_new[\"MSRP\"]/data_new[\"Horsepower\"]"
   ]
  },
  {
   "cell_type": "code",
   "execution_count": 234,
   "id": "6f0eed6a",
   "metadata": {},
   "outputs": [],
   "source": [
    "Price_per_HP = data_new.groupby(\"Make\")[\"Price_per_HP\"].mean().sort_values(ascending=False)\n"
   ]
  },
  {
   "cell_type": "code",
   "execution_count": 235,
   "id": "7937558d",
   "metadata": {},
   "outputs": [
    {
     "data": {
      "image/png": "[encoded data removed]",
      "text/plain": [
       "<Figure size 1800x700 with 1 Axes>"
      ]
     },
     "metadata": {},
     "output_type": "display_data"
    }
   ],
   "source": [
    "plt.figure(figsize=(18,7))\n",
    "plt.bar(Price_per_HP.index, Price_per_HP.values)\n",
    "plt.xticks(rotation=90)\n",
    "plt.title(\"Price Per HP\")\n",
    "plt.show()"
   ]
  },
  {
   "cell_type": "markdown",
   "id": "8bb9ac7b",
   "metadata": {},
   "source": [
    "Which cars offer the best fuel efficiency per price (MPG per dollar)?\n",
    "\n"
   ]
  },
  {
   "cell_type": "code",
   "execution_count": 236,
   "id": "b478b710",
   "metadata": {},
   "outputs": [],
   "source": [
    "data_new[\"MPG_per_dollar\"]=data_new[\"MSRP\"]/data[\"MPG\"]"
   ]
  },
  {
   "cell_type": "code",
   "execution_count": 237,
   "id": "d72bdb92",
   "metadata": {},
   "outputs": [],
   "source": [
    "MPG_per_dollar = data_new.groupby(\"Make\")[\"MPG_per_dollar\"].mean().sort_values(ascending=True)"
   ]
  },
  {
   "cell_type": "code",
   "execution_count": 238,
   "id": "b11d7884",
   "metadata": {},
   "outputs": [
    {
     "data": {
      "image/png": "[encoded data removed]",
      "text/plain": [
       "<Figure size 1800x700 with 1 Axes>"
      ]
     },
     "metadata": {},
     "output_type": "display_data"
    }
   ],
   "source": [
    "plt.figure(figsize=(18,7))\n",
    "plt.bar(MPG_per_dollar.index, MPG_per_dollar.values)\n",
    "plt.xticks(rotation = 90)\n",
    "plt.show()"
   ]
  },
  {
   "cell_type": "markdown",
   "id": "df51f5dc",
   "metadata": {},
   "source": [
    "Which Type of car offers the best value (low price, high mileage)?\n",
    "\n"
   ]
  },
  {
   "cell_type": "code",
   "execution_count": 239,
   "id": "76ed8c84",
   "metadata": {},
   "outputs": [],
   "source": [
    "data_new[\"Value\"]= data_new[\"MPG\"]/data_new[\"MSRP\"]"
   ]
  },
  {
   "cell_type": "code",
   "execution_count": 240,
   "id": "39ecfd8b",
   "metadata": {},
   "outputs": [],
   "source": [
    "value= data.groupby(\"Make\")[\"Value\"].mean().sort_values(ascending=False)\n",
    "\n"
   ]
  },
  {
   "cell_type": "code",
   "execution_count": 241,
   "id": "f41c6380",
   "metadata": {},
   "outputs": [
    {
     "data": {
      "image/png": "[encoded data removed]",
      "text/plain": [
       "<Figure size 1800x700 with 1 Axes>"
      ]
     },
     "metadata": {},
     "output_type": "display_data"
    }
   ],
   "source": [
    "plt.figure(figsize=(18,7))\n",
    "plt.bar(value.index, value.values)\n",
    "plt.xticks(rotation = 90)\n",
    "plt.show()"
   ]
  },
  {
   "cell_type": "markdown",
   "id": "223e1e52",
   "metadata": {},
   "source": [
    "Are European cars more expensive than American or Asian cars?\n",
    "\n"
   ]
  },
  {
   "cell_type": "code",
   "execution_count": 242,
   "id": "115966a2",
   "metadata": {},
   "outputs": [
    {
     "data": {
      "text/plain": [
       "Origin\n",
       "Europe    48349.796748\n",
       "USA       28377.442177\n",
       "Asia      24719.416667\n",
       "Name: MSRP, dtype: float64"
      ]
     },
     "execution_count": 242,
     "metadata": {},
     "output_type": "execute_result"
    }
   ],
   "source": [
    "Expensive = data_new.groupby(\"Origin\")[\"MSRP\"].mean().sort_values(ascending=False)\n",
    "Expensive"
   ]
  },
  {
   "cell_type": "code",
   "execution_count": 243,
   "id": "c087d847",
   "metadata": {},
   "outputs": [
    {
     "data": {
      "image/png": "[encoded data removed]",
      "text/plain": [
       "<Figure size 1100x500 with 1 Axes>"
      ]
     },
     "metadata": {},
     "output_type": "display_data"
    }
   ],
   "source": [
    "plt.figure(figsize=(11,5))\n",
    "plt.bar(Expensive.index, Expensive.values,color = \"grey\")\n",
    "\n",
    "plt.show()"
   ]
  },
  {
   "cell_type": "markdown",
   "id": "e37cc6c5",
   "metadata": {},
   "source": [
    "Which car brands focus more on performance (high horsepower) vs. efficiency (high MPG)?\n",
    "\n"
   ]
  },
  {
   "cell_type": "code",
   "execution_count": null,
   "id": "dd75d3e9",
   "metadata": {},
   "outputs": [],
   "source": []
  },
  {
   "cell_type": "markdown",
   "id": "ec3e2744",
   "metadata": {},
   "source": [
    "# 6. Advanced/ML-Oriented Questions\n",
    "\n",
    "Can we predict car price (MSRP) from the other features?\n",
    "\n"
   ]
  },
  {
   "cell_type": "code",
   "execution_count": 244,
   "id": "ca6fe593",
   "metadata": {},
   "outputs": [
    {
     "name": "stdout",
     "output_type": "stream",
     "text": [
      "<class 'pandas.core.frame.DataFrame'>\n",
      "Index: 426 entries, 0 to 431\n",
      "Data columns (total 21 columns):\n",
      " #   Column          Non-Null Count  Dtype  \n",
      "---  ------          --------------  -----  \n",
      " 0   Make            426 non-null    object \n",
      " 1   Model           426 non-null    object \n",
      " 2   Type            426 non-null    object \n",
      " 3   Origin          426 non-null    object \n",
      " 4   DriveTrain      426 non-null    object \n",
      " 5   MSRP            426 non-null    float64\n",
      " 6   Invoice         426 non-null    float64\n",
      " 7   EngineSize      426 non-null    float64\n",
      " 8   Cylinders       426 non-null    float64\n",
      " 9   Horsepower      426 non-null    float64\n",
      " 10  MPG_City        426 non-null    float64\n",
      " 11  MPG_Highway     426 non-null    float64\n",
      " 12  Weight          426 non-null    float64\n",
      " 13  Wheelbase       426 non-null    float64\n",
      " 14  Length          426 non-null    float64\n",
      " 15  MPG             426 non-null    float64\n",
      " 16  Clusters        426 non-null    object \n",
      " 17  ProfitMargin    426 non-null    float64\n",
      " 18  Price_per_HP    426 non-null    float64\n",
      " 19  MPG_per_dollar  426 non-null    float64\n",
      " 20  Value           426 non-null    float64\n",
      "dtypes: float64(15), object(6)\n",
      "memory usage: 73.2+ KB\n"
     ]
    }
   ],
   "source": [
    "data.info()"
   ]
  },
  {
   "cell_type": "code",
   "execution_count": 245,
   "id": "c71a7eb8",
   "metadata": {},
   "outputs": [],
   "source": [
    "y= data[\"MSRP\"]\n",
    "x= data.drop(columns=[\"Clusters\",\"MPG_City\",\"MPG_Highway\",\"MSRP\",\"Invoice\"])"
   ]
  },
  {
   "cell_type": "code",
   "execution_count": 246,
   "id": "2777e568",
   "metadata": {},
   "outputs": [
    {
     "data": {
      "text/plain": [
       "['Make', 'Model']"
      ]
     },
     "execution_count": 246,
     "metadata": {},
     "output_type": "execute_result"
    }
   ],
   "source": [
    "categorical_columns = ['Make', 'Model']\n",
    "categorical_columns"
   ]
  },
  {
   "cell_type": "code",
   "execution_count": 247,
   "id": "647b0823",
   "metadata": {},
   "outputs": [],
   "source": [
    "from sklearn.preprocessing import LabelEncoder\n",
    "encoder=LabelEncoder()"
   ]
  },
  {
   "cell_type": "code",
   "execution_count": 248,
   "id": "678e2f68",
   "metadata": {},
   "outputs": [],
   "source": [
    "for i in categorical_columns:\n",
    "    x[i]=encoder.fit_transform(x[i])"
   ]
  },
  {
   "cell_type": "code",
   "execution_count": 249,
   "id": "b31c9f15",
   "metadata": {},
   "outputs": [],
   "source": [
    "columns_scale = x.drop(columns=['Type', 'Origin', 'DriveTrain']).columns\n",
    "\n",
    "x[columns_scale] = scaler.fit_transform(x[columns_scale])"
   ]
  },
  {
   "cell_type": "code",
   "execution_count": 250,
   "id": "6468d5fb",
   "metadata": {},
   "outputs": [],
   "source": [
    "x= pd.get_dummies(x,['Type', 'Origin', 'DriveTrain'],drop_first=True)"
   ]
  },
  {
   "cell_type": "code",
   "execution_count": 251,
   "id": "e5e3b7af",
   "metadata": {},
   "outputs": [],
   "source": [
    "from sklearn.preprocessing import MinMaxScaler\n",
    "scaler=MinMaxScaler(feature_range=(0,1))"
   ]
  },
  {
   "cell_type": "code",
   "execution_count": 252,
   "id": "7118b297",
   "metadata": {},
   "outputs": [
    {
     "data": {
      "text/html": [
       "<div>\n",
       "<style scoped>\n",
       "    .dataframe tbody tr th:only-of-type {\n",
       "        vertical-align: middle;\n",
       "    }\n",
       "\n",
       "    .dataframe tbody tr th {\n",
       "        vertical-align: top;\n",
       "    }\n",
       "\n",
       "    .dataframe thead th {\n",
       "        text-align: right;\n",
       "    }\n",
       "</style>\n",
       "<table border=\"1\" class=\"dataframe\">\n",
       "  <thead>\n",
       "    <tr style=\"text-align: right;\">\n",
       "      <th></th>\n",
       "      <th>Make</th>\n",
       "      <th>Model</th>\n",
       "      <th>EngineSize</th>\n",
       "      <th>Cylinders</th>\n",
       "      <th>Horsepower</th>\n",
       "      <th>Weight</th>\n",
       "      <th>Wheelbase</th>\n",
       "      <th>Length</th>\n",
       "      <th>MPG</th>\n",
       "      <th>ProfitMargin</th>\n",
       "      <th>...</th>\n",
       "      <th>Value</th>\n",
       "      <th>Type_SUV</th>\n",
       "      <th>Type_Sedan</th>\n",
       "      <th>Type_Sports</th>\n",
       "      <th>Type_Truck</th>\n",
       "      <th>Type_Wagon</th>\n",
       "      <th>Origin_Europe</th>\n",
       "      <th>Origin_USA</th>\n",
       "      <th>DriveTrain_Front</th>\n",
       "      <th>DriveTrain_Rear</th>\n",
       "    </tr>\n",
       "  </thead>\n",
       "  <tbody>\n",
       "    <tr>\n",
       "      <th>0</th>\n",
       "      <td>-1.500398</td>\n",
       "      <td>0.153424</td>\n",
       "      <td>0.267066</td>\n",
       "      <td>0.123658</td>\n",
       "      <td>0.683138</td>\n",
       "      <td>1.146972</td>\n",
       "      <td>-0.260127</td>\n",
       "      <td>0.179781</td>\n",
       "      <td>-0.639708</td>\n",
       "      <td>0.432792</td>\n",
       "      <td>...</td>\n",
       "      <td>-0.668026</td>\n",
       "      <td>True</td>\n",
       "      <td>False</td>\n",
       "      <td>False</td>\n",
       "      <td>False</td>\n",
       "      <td>False</td>\n",
       "      <td>False</td>\n",
       "      <td>False</td>\n",
       "      <td>False</td>\n",
       "      <td>False</td>\n",
       "    </tr>\n",
       "    <tr>\n",
       "      <th>1</th>\n",
       "      <td>-1.500398</td>\n",
       "      <td>0.677868</td>\n",
       "      <td>-1.093819</td>\n",
       "      <td>-1.161183</td>\n",
       "      <td>-0.220814</td>\n",
       "      <td>-1.057309</td>\n",
       "      <td>-0.861070</td>\n",
       "      <td>-1.004909</td>\n",
       "      <td>0.745964</td>\n",
       "      <td>-0.361415</td>\n",
       "      <td>...</td>\n",
       "      <td>0.288154</td>\n",
       "      <td>False</td>\n",
       "      <td>True</td>\n",
       "      <td>False</td>\n",
       "      <td>False</td>\n",
       "      <td>False</td>\n",
       "      <td>False</td>\n",
       "      <td>False</td>\n",
       "      <td>True</td>\n",
       "      <td>False</td>\n",
       "    </tr>\n",
       "    <tr>\n",
       "      <th>2</th>\n",
       "      <td>-1.500398</td>\n",
       "      <td>1.259672</td>\n",
       "      <td>-0.730917</td>\n",
       "      <td>-1.161183</td>\n",
       "      <td>-0.220814</td>\n",
       "      <td>-0.461771</td>\n",
       "      <td>-0.380316</td>\n",
       "      <td>-0.238345</td>\n",
       "      <td>0.376452</td>\n",
       "      <td>-0.215802</td>\n",
       "      <td>...</td>\n",
       "      <td>-0.038862</td>\n",
       "      <td>False</td>\n",
       "      <td>True</td>\n",
       "      <td>False</td>\n",
       "      <td>False</td>\n",
       "      <td>False</td>\n",
       "      <td>False</td>\n",
       "      <td>False</td>\n",
       "      <td>True</td>\n",
       "      <td>False</td>\n",
       "    </tr>\n",
       "    <tr>\n",
       "      <th>3</th>\n",
       "      <td>-1.500398</td>\n",
       "      <td>1.251478</td>\n",
       "      <td>-0.005111</td>\n",
       "      <td>0.123658</td>\n",
       "      <td>0.752673</td>\n",
       "      <td>-0.007213</td>\n",
       "      <td>-0.019749</td>\n",
       "      <td>-0.029282</td>\n",
       "      <td>0.099317</td>\n",
       "      <td>0.067733</td>\n",
       "      <td>...</td>\n",
       "      <td>-0.384742</td>\n",
       "      <td>False</td>\n",
       "      <td>True</td>\n",
       "      <td>False</td>\n",
       "      <td>False</td>\n",
       "      <td>False</td>\n",
       "      <td>False</td>\n",
       "      <td>False</td>\n",
       "      <td>True</td>\n",
       "      <td>False</td>\n",
       "    </tr>\n",
       "    <tr>\n",
       "      <th>4</th>\n",
       "      <td>-1.500398</td>\n",
       "      <td>-1.723100</td>\n",
       "      <td>0.267066</td>\n",
       "      <td>0.123658</td>\n",
       "      <td>0.126860</td>\n",
       "      <td>0.394644</td>\n",
       "      <td>0.821572</td>\n",
       "      <td>0.737283</td>\n",
       "      <td>-0.454952</td>\n",
       "      <td>1.013706</td>\n",
       "      <td>...</td>\n",
       "      <td>-0.763778</td>\n",
       "      <td>False</td>\n",
       "      <td>True</td>\n",
       "      <td>False</td>\n",
       "      <td>False</td>\n",
       "      <td>False</td>\n",
       "      <td>False</td>\n",
       "      <td>False</td>\n",
       "      <td>True</td>\n",
       "      <td>False</td>\n",
       "    </tr>\n",
       "    <tr>\n",
       "      <th>...</th>\n",
       "      <td>...</td>\n",
       "      <td>...</td>\n",
       "      <td>...</td>\n",
       "      <td>...</td>\n",
       "      <td>...</td>\n",
       "      <td>...</td>\n",
       "      <td>...</td>\n",
       "      <td>...</td>\n",
       "      <td>...</td>\n",
       "      <td>...</td>\n",
       "      <td>...</td>\n",
       "      <td>...</td>\n",
       "      <td>...</td>\n",
       "      <td>...</td>\n",
       "      <td>...</td>\n",
       "      <td>...</td>\n",
       "      <td>...</td>\n",
       "      <td>...</td>\n",
       "      <td>...</td>\n",
       "      <td>...</td>\n",
       "      <td>...</td>\n",
       "    </tr>\n",
       "    <tr>\n",
       "      <th>427</th>\n",
       "      <td>1.636526</td>\n",
       "      <td>-1.042962</td>\n",
       "      <td>-0.730917</td>\n",
       "      <td>-0.518762</td>\n",
       "      <td>-0.262534</td>\n",
       "      <td>-0.171908</td>\n",
       "      <td>-0.380316</td>\n",
       "      <td>-0.029282</td>\n",
       "      <td>0.191696</td>\n",
       "      <td>-0.206060</td>\n",
       "      <td>...</td>\n",
       "      <td>-0.570367</td>\n",
       "      <td>False</td>\n",
       "      <td>True</td>\n",
       "      <td>False</td>\n",
       "      <td>False</td>\n",
       "      <td>False</td>\n",
       "      <td>True</td>\n",
       "      <td>False</td>\n",
       "      <td>True</td>\n",
       "      <td>False</td>\n",
       "    </tr>\n",
       "    <tr>\n",
       "      <th>428</th>\n",
       "      <td>1.636526</td>\n",
       "      <td>-1.051157</td>\n",
       "      <td>-0.821642</td>\n",
       "      <td>-0.518762</td>\n",
       "      <td>0.363278</td>\n",
       "      <td>-0.171908</td>\n",
       "      <td>-0.380316</td>\n",
       "      <td>-0.029282</td>\n",
       "      <td>-0.085439</td>\n",
       "      <td>-0.144533</td>\n",
       "      <td>...</td>\n",
       "      <td>-0.669578</td>\n",
       "      <td>False</td>\n",
       "      <td>True</td>\n",
       "      <td>False</td>\n",
       "      <td>False</td>\n",
       "      <td>False</td>\n",
       "      <td>True</td>\n",
       "      <td>False</td>\n",
       "      <td>True</td>\n",
       "      <td>False</td>\n",
       "    </tr>\n",
       "    <tr>\n",
       "      <th>429</th>\n",
       "      <td>1.636526</td>\n",
       "      <td>0.899117</td>\n",
       "      <td>-0.277288</td>\n",
       "      <td>0.123658</td>\n",
       "      <td>0.724859</td>\n",
       "      <td>0.095557</td>\n",
       "      <td>0.220628</td>\n",
       "      <td>0.249469</td>\n",
       "      <td>-0.177817</td>\n",
       "      <td>-0.065062</td>\n",
       "      <td>...</td>\n",
       "      <td>-0.736125</td>\n",
       "      <td>False</td>\n",
       "      <td>True</td>\n",
       "      <td>False</td>\n",
       "      <td>False</td>\n",
       "      <td>False</td>\n",
       "      <td>True</td>\n",
       "      <td>False</td>\n",
       "      <td>True</td>\n",
       "      <td>False</td>\n",
       "    </tr>\n",
       "    <tr>\n",
       "      <th>430</th>\n",
       "      <td>1.636526</td>\n",
       "      <td>1.448144</td>\n",
       "      <td>-1.184545</td>\n",
       "      <td>-1.161183</td>\n",
       "      <td>-0.638022</td>\n",
       "      <td>-0.999337</td>\n",
       "      <td>-0.861070</td>\n",
       "      <td>-0.447408</td>\n",
       "      <td>0.376452</td>\n",
       "      <td>-0.651103</td>\n",
       "      <td>...</td>\n",
       "      <td>0.009339</td>\n",
       "      <td>False</td>\n",
       "      <td>False</td>\n",
       "      <td>False</td>\n",
       "      <td>False</td>\n",
       "      <td>True</td>\n",
       "      <td>True</td>\n",
       "      <td>False</td>\n",
       "      <td>True</td>\n",
       "      <td>False</td>\n",
       "    </tr>\n",
       "    <tr>\n",
       "      <th>431</th>\n",
       "      <td>1.636526</td>\n",
       "      <td>1.554672</td>\n",
       "      <td>-0.640191</td>\n",
       "      <td>-0.518762</td>\n",
       "      <td>-0.109558</td>\n",
       "      <td>0.319543</td>\n",
       "      <td>0.100439</td>\n",
       "      <td>-0.029282</td>\n",
       "      <td>0.006939</td>\n",
       "      <td>-0.374746</td>\n",
       "      <td>...</td>\n",
       "      <td>-0.469486</td>\n",
       "      <td>False</td>\n",
       "      <td>False</td>\n",
       "      <td>False</td>\n",
       "      <td>False</td>\n",
       "      <td>True</td>\n",
       "      <td>True</td>\n",
       "      <td>False</td>\n",
       "      <td>False</td>\n",
       "      <td>False</td>\n",
       "    </tr>\n",
       "  </tbody>\n",
       "</table>\n",
       "<p>426 rows × 22 columns</p>\n",
       "</div>"
      ],
      "text/plain": [
       "         Make     Model  EngineSize  Cylinders  Horsepower    Weight  \\\n",
       "0   -1.500398  0.153424    0.267066   0.123658    0.683138  1.146972   \n",
       "1   -1.500398  0.677868   -1.093819  -1.161183   -0.220814 -1.057309   \n",
       "2   -1.500398  1.259672   -0.730917  -1.161183   -0.220814 -0.461771   \n",
       "3   -1.500398  1.251478   -0.005111   0.123658    0.752673 -0.007213   \n",
       "4   -1.500398 -1.723100    0.267066   0.123658    0.126860  0.394644   \n",
       "..        ...       ...         ...        ...         ...       ...   \n",
       "427  1.636526 -1.042962   -0.730917  -0.518762   -0.262534 -0.171908   \n",
       "428  1.636526 -1.051157   -0.821642  -0.518762    0.363278 -0.171908   \n",
       "429  1.636526  0.899117   -0.277288   0.123658    0.724859  0.095557   \n",
       "430  1.636526  1.448144   -1.184545  -1.161183   -0.638022 -0.999337   \n",
       "431  1.636526  1.554672   -0.640191  -0.518762   -0.109558  0.319543   \n",
       "\n",
       "     Wheelbase    Length       MPG  ProfitMargin  ...     Value  Type_SUV  \\\n",
       "0    -0.260127  0.179781 -0.639708      0.432792  ... -0.668026      True   \n",
       "1    -0.861070 -1.004909  0.745964     -0.361415  ...  0.288154     False   \n",
       "2    -0.380316 -0.238345  0.376452     -0.215802  ... -0.038862     False   \n",
       "3    -0.019749 -0.029282  0.099317      0.067733  ... -0.384742     False   \n",
       "4     0.821572  0.737283 -0.454952      1.013706  ... -0.763778     False   \n",
       "..         ...       ...       ...           ...  ...       ...       ...   \n",
       "427  -0.380316 -0.029282  0.191696     -0.206060  ... -0.570367     False   \n",
       "428  -0.380316 -0.029282 -0.085439     -0.144533  ... -0.669578     False   \n",
       "429   0.220628  0.249469 -0.177817     -0.065062  ... -0.736125     False   \n",
       "430  -0.861070 -0.447408  0.376452     -0.651103  ...  0.009339     False   \n",
       "431   0.100439 -0.029282  0.006939     -0.374746  ... -0.469486     False   \n",
       "\n",
       "     Type_Sedan  Type_Sports  Type_Truck  Type_Wagon  Origin_Europe  \\\n",
       "0         False        False       False       False          False   \n",
       "1          True        False       False       False          False   \n",
       "2          True        False       False       False          False   \n",
       "3          True        False       False       False          False   \n",
       "4          True        False       False       False          False   \n",
       "..          ...          ...         ...         ...            ...   \n",
       "427        True        False       False       False           True   \n",
       "428        True        False       False       False           True   \n",
       "429        True        False       False       False           True   \n",
       "430       False        False       False        True           True   \n",
       "431       False        False       False        True           True   \n",
       "\n",
       "     Origin_USA  DriveTrain_Front  DriveTrain_Rear  \n",
       "0         False             False            False  \n",
       "1         False              True            False  \n",
       "2         False              True            False  \n",
       "3         False              True            False  \n",
       "4         False              True            False  \n",
       "..          ...               ...              ...  \n",
       "427       False              True            False  \n",
       "428       False              True            False  \n",
       "429       False              True            False  \n",
       "430       False              True            False  \n",
       "431       False             False            False  \n",
       "\n",
       "[426 rows x 22 columns]"
      ]
     },
     "execution_count": 252,
     "metadata": {},
     "output_type": "execute_result"
    }
   ],
   "source": [
    "x"
   ]
  },
  {
   "cell_type": "code",
   "execution_count": 253,
   "id": "4ab6f2f2",
   "metadata": {},
   "outputs": [
    {
     "data": {
      "text/plain": [
       "((298, 22), (128, 22), (298,), (128,))"
      ]
     },
     "execution_count": 253,
     "metadata": {},
     "output_type": "execute_result"
    }
   ],
   "source": [
    "from sklearn.model_selection import train_test_split\n",
    "\n",
    "x_train,x_test,y_train,y_test = train_test_split(x,y,test_size=0.3,random_state=42)\n",
    "\n",
    "x_train.shape,x_test.shape,y_train.shape,y_test.shape"
   ]
  },
  {
   "cell_type": "code",
   "execution_count": 254,
   "id": "cf236381",
   "metadata": {},
   "outputs": [],
   "source": [
    "from sklearn.linear_model import LinearRegression\n",
    "\n",
    "LR= LinearRegression()"
   ]
  },
  {
   "cell_type": "code",
   "execution_count": 255,
   "id": "d193bc16",
   "metadata": {},
   "outputs": [
    {
     "data": {
      "text/html": [
       "<style>#sk-container-id-9 {\n",
       "  /* Definition of color scheme common for light and dark mode */\n",
       "  --sklearn-color-text: #000;\n",
       "  --sklearn-color-text-muted: #666;\n",
       "  --sklearn-color-line: gray;\n",
       "  /* Definition of color scheme for unfitted estimators */\n",
       "  --sklearn-color-unfitted-level-0: #fff5e6;\n",
       "  --sklearn-color-unfitted-level-1: #f6e4d2;\n",
       "  --sklearn-color-unfitted-level-2: #ffe0b3;\n",
       "  --sklearn-color-unfitted-level-3: chocolate;\n",
       "  /* Definition of color scheme for fitted estimators */\n",
       "  --sklearn-color-fitted-level-0: #f0f8ff;\n",
       "  --sklearn-color-fitted-level-1: #d4ebff;\n",
       "  --sklearn-color-fitted-level-2: #b3dbfd;\n",
       "  --sklearn-color-fitted-level-3: cornflowerblue;\n",
       "\n",
       "  /* Specific color for light theme */\n",
       "  --sklearn-color-text-on-default-background: var(--sg-text-color, var(--theme-code-foreground, var(--jp-content-font-color1, black)));\n",
       "  --sklearn-color-background: var(--sg-background-color, var(--theme-background, var(--jp-layout-color0, white)));\n",
       "  --sklearn-color-border-box: var(--sg-text-color, var(--theme-code-foreground, var(--jp-content-font-color1, black)));\n",
       "  --sklearn-color-icon: #696969;\n",
       "\n",
       "  @media (prefers-color-scheme: dark) {\n",
       "    /* Redefinition of color scheme for dark theme */\n",
       "    --sklearn-color-text-on-default-background: var(--sg-text-color, var(--theme-code-foreground, var(--jp-content-font-color1, white)));\n",
       "    --sklearn-color-background: var(--sg-background-color, var(--theme-background, var(--jp-layout-color0, #111)));\n",
       "    --sklearn-color-border-box: var(--sg-text-color, var(--theme-code-foreground, var(--jp-content-font-color1, white)));\n",
       "    --sklearn-color-icon: #878787;\n",
       "  }\n",
       "}\n",
       "\n",
       "#sk-container-id-9 {\n",
       "  color: var(--sklearn-color-text);\n",
       "}\n",
       "\n",
       "#sk-container-id-9 pre {\n",
       "  padding: 0;\n",
       "}\n",
       "\n",
       "#sk-container-id-9 input.sk-hidden--visually {\n",
       "  border: 0;\n",
       "  clip: rect(1px 1px 1px 1px);\n",
       "  clip: rect(1px, 1px, 1px, 1px);\n",
       "  height: 1px;\n",
       "  margin: -1px;\n",
       "  overflow: hidden;\n",
       "  padding: 0;\n",
       "  position: absolute;\n",
       "  width: 1px;\n",
       "}\n",
       "\n",
       "#sk-container-id-9 div.sk-dashed-wrapped {\n",
       "  border: 1px dashed var(--sklearn-color-line);\n",
       "  margin: 0 0.4em 0.5em 0.4em;\n",
       "  box-sizing: border-box;\n",
       "  padding-bottom: 0.4em;\n",
       "  background-color: var(--sklearn-color-background);\n",
       "}\n",
       "\n",
       "#sk-container-id-9 div.sk-container {\n",
       "  /* jupyter's `normalize.less` sets `[hidden] { display: none; }`\n",
       "     but bootstrap.min.css set `[hidden] { display: none !important; }`\n",
       "     so we also need the `!important` here to be able to override the\n",
       "     default hidden behavior on the sphinx rendered scikit-learn.org.\n",
       "     See: https://github.com/scikit-learn/scikit-learn/issues/21755 */\n",
       "  display: inline-block !important;\n",
       "  position: relative;\n",
       "}\n",
       "\n",
       "#sk-container-id-9 div.sk-text-repr-fallback {\n",
       "  display: none;\n",
       "}\n",
       "\n",
       "div.sk-parallel-item,\n",
       "div.sk-serial,\n",
       "div.sk-item {\n",
       "  /* draw centered vertical line to link estimators */\n",
       "  background-image: linear-gradient(var(--sklearn-color-text-on-default-background), var(--sklearn-color-text-on-default-background));\n",
       "  background-size: 2px 100%;\n",
       "  background-repeat: no-repeat;\n",
       "  background-position: center center;\n",
       "}\n",
       "\n",
       "/* Parallel-specific style estimator block */\n",
       "\n",
       "#sk-container-id-9 div.sk-parallel-item::after {\n",
       "  content: \"\";\n",
       "  width: 100%;\n",
       "  border-bottom: 2px solid var(--sklearn-color-text-on-default-background);\n",
       "  flex-grow: 1;\n",
       "}\n",
       "\n",
       "#sk-container-id-9 div.sk-parallel {\n",
       "  display: flex;\n",
       "  align-items: stretch;\n",
       "  justify-content: center;\n",
       "  background-color: var(--sklearn-color-background);\n",
       "  position: relative;\n",
       "}\n",
       "\n",
       "#sk-container-id-9 div.sk-parallel-item {\n",
       "  display: flex;\n",
       "  flex-direction: column;\n",
       "}\n",
       "\n",
       "#sk-container-id-9 div.sk-parallel-item:first-child::after {\n",
       "  align-self: flex-end;\n",
       "  width: 50%;\n",
       "}\n",
       "\n",
       "#sk-container-id-9 div.sk-parallel-item:last-child::after {\n",
       "  align-self: flex-start;\n",
       "  width: 50%;\n",
       "}\n",
       "\n",
       "#sk-container-id-9 div.sk-parallel-item:only-child::after {\n",
       "  width: 0;\n",
       "}\n",
       "\n",
       "/* Serial-specific style estimator block */\n",
       "\n",
       "#sk-container-id-9 div.sk-serial {\n",
       "  display: flex;\n",
       "  flex-direction: column;\n",
       "  align-items: center;\n",
       "  background-color: var(--sklearn-color-background);\n",
       "  padding-right: 1em;\n",
       "  padding-left: 1em;\n",
       "}\n",
       "\n",
       "\n",
       "/* Toggleable style: style used for estimator/Pipeline/ColumnTransformer box that is\n",
       "clickable and can be expanded/collapsed.\n",
       "- Pipeline and ColumnTransformer use this feature and define the default style\n",
       "- Estimators will overwrite some part of the style using the `sk-estimator` class\n",
       "*/\n",
       "\n",
       "/* Pipeline and ColumnTransformer style (default) */\n",
       "\n",
       "#sk-container-id-9 div.sk-toggleable {\n",
       "  /* Default theme specific background. It is overwritten whether we have a\n",
       "  specific estimator or a Pipeline/ColumnTransformer */\n",
       "  background-color: var(--sklearn-color-background);\n",
       "}\n",
       "\n",
       "/* Toggleable label */\n",
       "#sk-container-id-9 label.sk-toggleable__label {\n",
       "  cursor: pointer;\n",
       "  display: flex;\n",
       "  width: 100%;\n",
       "  margin-bottom: 0;\n",
       "  padding: 0.5em;\n",
       "  box-sizing: border-box;\n",
       "  text-align: center;\n",
       "  align-items: start;\n",
       "  justify-content: space-between;\n",
       "  gap: 0.5em;\n",
       "}\n",
       "\n",
       "#sk-container-id-9 label.sk-toggleable__label .caption {\n",
       "  font-size: 0.6rem;\n",
       "  font-weight: lighter;\n",
       "  color: var(--sklearn-color-text-muted);\n",
       "}\n",
       "\n",
       "#sk-container-id-9 label.sk-toggleable__label-arrow:before {\n",
       "  /* Arrow on the left of the label */\n",
       "  content: \"▸\";\n",
       "  float: left;\n",
       "  margin-right: 0.25em;\n",
       "  color: var(--sklearn-color-icon);\n",
       "}\n",
       "\n",
       "#sk-container-id-9 label.sk-toggleable__label-arrow:hover:before {\n",
       "  color: var(--sklearn-color-text);\n",
       "}\n",
       "\n",
       "/* Toggleable content - dropdown */\n",
       "\n",
       "#sk-container-id-9 div.sk-toggleable__content {\n",
       "  max-height: 0;\n",
       "  max-width: 0;\n",
       "  overflow: hidden;\n",
       "  text-align: left;\n",
       "  /* unfitted */\n",
       "  background-color: var(--sklearn-color-unfitted-level-0);\n",
       "}\n",
       "\n",
       "#sk-container-id-9 div.sk-toggleable__content.fitted {\n",
       "  /* fitted */\n",
       "  background-color: var(--sklearn-color-fitted-level-0);\n",
       "}\n",
       "\n",
       "#sk-container-id-9 div.sk-toggleable__content pre {\n",
       "  margin: 0.2em;\n",
       "  border-radius: 0.25em;\n",
       "  color: var(--sklearn-color-text);\n",
       "  /* unfitted */\n",
       "  background-color: var(--sklearn-color-unfitted-level-0);\n",
       "}\n",
       "\n",
       "#sk-container-id-9 div.sk-toggleable__content.fitted pre {\n",
       "  /* unfitted */\n",
       "  background-color: var(--sklearn-color-fitted-level-0);\n",
       "}\n",
       "\n",
       "#sk-container-id-9 input.sk-toggleable__control:checked~div.sk-toggleable__content {\n",
       "  /* Expand drop-down */\n",
       "  max-height: 200px;\n",
       "  max-width: 100%;\n",
       "  overflow: auto;\n",
       "}\n",
       "\n",
       "#sk-container-id-9 input.sk-toggleable__control:checked~label.sk-toggleable__label-arrow:before {\n",
       "  content: \"▾\";\n",
       "}\n",
       "\n",
       "/* Pipeline/ColumnTransformer-specific style */\n",
       "\n",
       "#sk-container-id-9 div.sk-label input.sk-toggleable__control:checked~label.sk-toggleable__label {\n",
       "  color: var(--sklearn-color-text);\n",
       "  background-color: var(--sklearn-color-unfitted-level-2);\n",
       "}\n",
       "\n",
       "#sk-container-id-9 div.sk-label.fitted input.sk-toggleable__control:checked~label.sk-toggleable__label {\n",
       "  background-color: var(--sklearn-color-fitted-level-2);\n",
       "}\n",
       "\n",
       "/* Estimator-specific style */\n",
       "\n",
       "/* Colorize estimator box */\n",
       "#sk-container-id-9 div.sk-estimator input.sk-toggleable__control:checked~label.sk-toggleable__label {\n",
       "  /* unfitted */\n",
       "  background-color: var(--sklearn-color-unfitted-level-2);\n",
       "}\n",
       "\n",
       "#sk-container-id-9 div.sk-estimator.fitted input.sk-toggleable__control:checked~label.sk-toggleable__label {\n",
       "  /* fitted */\n",
       "  background-color: var(--sklearn-color-fitted-level-2);\n",
       "}\n",
       "\n",
       "#sk-container-id-9 div.sk-label label.sk-toggleable__label,\n",
       "#sk-container-id-9 div.sk-label label {\n",
       "  /* The background is the default theme color */\n",
       "  color: var(--sklearn-color-text-on-default-background);\n",
       "}\n",
       "\n",
       "/* On hover, darken the color of the background */\n",
       "#sk-container-id-9 div.sk-label:hover label.sk-toggleable__label {\n",
       "  color: var(--sklearn-color-text);\n",
       "  background-color: var(--sklearn-color-unfitted-level-2);\n",
       "}\n",
       "\n",
       "/* Label box, darken color on hover, fitted */\n",
       "#sk-container-id-9 div.sk-label.fitted:hover label.sk-toggleable__label.fitted {\n",
       "  color: var(--sklearn-color-text);\n",
       "  background-color: var(--sklearn-color-fitted-level-2);\n",
       "}\n",
       "\n",
       "/* Estimator label */\n",
       "\n",
       "#sk-container-id-9 div.sk-label label {\n",
       "  font-family: monospace;\n",
       "  font-weight: bold;\n",
       "  display: inline-block;\n",
       "  line-height: 1.2em;\n",
       "}\n",
       "\n",
       "#sk-container-id-9 div.sk-label-container {\n",
       "  text-align: center;\n",
       "}\n",
       "\n",
       "/* Estimator-specific */\n",
       "#sk-container-id-9 div.sk-estimator {\n",
       "  font-family: monospace;\n",
       "  border: 1px dotted var(--sklearn-color-border-box);\n",
       "  border-radius: 0.25em;\n",
       "  box-sizing: border-box;\n",
       "  margin-bottom: 0.5em;\n",
       "  /* unfitted */\n",
       "  background-color: var(--sklearn-color-unfitted-level-0);\n",
       "}\n",
       "\n",
       "#sk-container-id-9 div.sk-estimator.fitted {\n",
       "  /* fitted */\n",
       "  background-color: var(--sklearn-color-fitted-level-0);\n",
       "}\n",
       "\n",
       "/* on hover */\n",
       "#sk-container-id-9 div.sk-estimator:hover {\n",
       "  /* unfitted */\n",
       "  background-color: var(--sklearn-color-unfitted-level-2);\n",
       "}\n",
       "\n",
       "#sk-container-id-9 div.sk-estimator.fitted:hover {\n",
       "  /* fitted */\n",
       "  background-color: var(--sklearn-color-fitted-level-2);\n",
       "}\n",
       "\n",
       "/* Specification for estimator info (e.g. \"i\" and \"?\") */\n",
       "\n",
       "/* Common style for \"i\" and \"?\" */\n",
       "\n",
       ".sk-estimator-doc-link,\n",
       "a:link.sk-estimator-doc-link,\n",
       "a:visited.sk-estimator-doc-link {\n",
       "  float: right;\n",
       "  font-size: smaller;\n",
       "  line-height: 1em;\n",
       "  font-family: monospace;\n",
       "  background-color: var(--sklearn-color-background);\n",
       "  border-radius: 1em;\n",
       "  height: 1em;\n",
       "  width: 1em;\n",
       "  text-decoration: none !important;\n",
       "  margin-left: 0.5em;\n",
       "  text-align: center;\n",
       "  /* unfitted */\n",
       "  border: var(--sklearn-color-unfitted-level-1) 1pt solid;\n",
       "  color: var(--sklearn-color-unfitted-level-1);\n",
       "}\n",
       "\n",
       ".sk-estimator-doc-link.fitted,\n",
       "a:link.sk-estimator-doc-link.fitted,\n",
       "a:visited.sk-estimator-doc-link.fitted {\n",
       "  /* fitted */\n",
       "  border: var(--sklearn-color-fitted-level-1) 1pt solid;\n",
       "  color: var(--sklearn-color-fitted-level-1);\n",
       "}\n",
       "\n",
       "/* On hover */\n",
       "div.sk-estimator:hover .sk-estimator-doc-link:hover,\n",
       ".sk-estimator-doc-link:hover,\n",
       "div.sk-label-container:hover .sk-estimator-doc-link:hover,\n",
       ".sk-estimator-doc-link:hover {\n",
       "  /* unfitted */\n",
       "  background-color: var(--sklearn-color-unfitted-level-3);\n",
       "  color: var(--sklearn-color-background);\n",
       "  text-decoration: none;\n",
       "}\n",
       "\n",
       "div.sk-estimator.fitted:hover .sk-estimator-doc-link.fitted:hover,\n",
       ".sk-estimator-doc-link.fitted:hover,\n",
       "div.sk-label-container:hover .sk-estimator-doc-link.fitted:hover,\n",
       ".sk-estimator-doc-link.fitted:hover {\n",
       "  /* fitted */\n",
       "  background-color: var(--sklearn-color-fitted-level-3);\n",
       "  color: var(--sklearn-color-background);\n",
       "  text-decoration: none;\n",
       "}\n",
       "\n",
       "/* Span, style for the box shown on hovering the info icon */\n",
       ".sk-estimator-doc-link span {\n",
       "  display: none;\n",
       "  z-index: 9999;\n",
       "  position: relative;\n",
       "  font-weight: normal;\n",
       "  right: .2ex;\n",
       "  padding: .5ex;\n",
       "  margin: .5ex;\n",
       "  width: min-content;\n",
       "  min-width: 20ex;\n",
       "  max-width: 50ex;\n",
       "  color: var(--sklearn-color-text);\n",
       "  box-shadow: 2pt 2pt 4pt #999;\n",
       "  /* unfitted */\n",
       "  background: var(--sklearn-color-unfitted-level-0);\n",
       "  border: .5pt solid var(--sklearn-color-unfitted-level-3);\n",
       "}\n",
       "\n",
       ".sk-estimator-doc-link.fitted span {\n",
       "  /* fitted */\n",
       "  background: var(--sklearn-color-fitted-level-0);\n",
       "  border: var(--sklearn-color-fitted-level-3);\n",
       "}\n",
       "\n",
       ".sk-estimator-doc-link:hover span {\n",
       "  display: block;\n",
       "}\n",
       "\n",
       "/* \"?\"-specific style due to the `<a>` HTML tag */\n",
       "\n",
       "#sk-container-id-9 a.estimator_doc_link {\n",
       "  float: right;\n",
       "  font-size: 1rem;\n",
       "  line-height: 1em;\n",
       "  font-family: monospace;\n",
       "  background-color: var(--sklearn-color-background);\n",
       "  border-radius: 1rem;\n",
       "  height: 1rem;\n",
       "  width: 1rem;\n",
       "  text-decoration: none;\n",
       "  /* unfitted */\n",
       "  color: var(--sklearn-color-unfitted-level-1);\n",
       "  border: var(--sklearn-color-unfitted-level-1) 1pt solid;\n",
       "}\n",
       "\n",
       "#sk-container-id-9 a.estimator_doc_link.fitted {\n",
       "  /* fitted */\n",
       "  border: var(--sklearn-color-fitted-level-1) 1pt solid;\n",
       "  color: var(--sklearn-color-fitted-level-1);\n",
       "}\n",
       "\n",
       "/* On hover */\n",
       "#sk-container-id-9 a.estimator_doc_link:hover {\n",
       "  /* unfitted */\n",
       "  background-color: var(--sklearn-color-unfitted-level-3);\n",
       "  color: var(--sklearn-color-background);\n",
       "  text-decoration: none;\n",
       "}\n",
       "\n",
       "#sk-container-id-9 a.estimator_doc_link.fitted:hover {\n",
       "  /* fitted */\n",
       "  background-color: var(--sklearn-color-fitted-level-3);\n",
       "}\n",
       "</style><div id=\"sk-container-id-9\" class=\"sk-top-container\"><div class=\"sk-text-repr-fallback\"><pre>LinearRegression()</pre><b>In a Jupyter environment, please rerun this cell to show the HTML representation or trust the notebook. <br />On GitHub, the HTML representation is unable to render, please try loading this page with nbviewer.org.</b></div><div class=\"sk-container\" hidden><div class=\"sk-item\"><div class=\"sk-estimator fitted sk-toggleable\"><input class=\"sk-toggleable__control sk-hidden--visually\" id=\"sk-estimator-id-9\" type=\"checkbox\" checked><label for=\"sk-estimator-id-9\" class=\"sk-toggleable__label fitted sk-toggleable__label-arrow\"><div><div>LinearRegression</div></div><div><a class=\"sk-estimator-doc-link fitted\" rel=\"noreferrer\" target=\"_blank\" href=\"https://scikit-learn.org/1.6/modules/generated/sklearn.linear_model.LinearRegression.html\">?<span>Documentation for LinearRegression</span></a><span class=\"sk-estimator-doc-link fitted\">i<span>Fitted</span></span></div></label><div class=\"sk-toggleable__content fitted\"><pre>LinearRegression()</pre></div> </div></div></div></div>"
      ],
      "text/plain": [
       "LinearRegression()"
      ]
     },
     "execution_count": 255,
     "metadata": {},
     "output_type": "execute_result"
    }
   ],
   "source": [
    "LR.fit(x_train,y_train)"
   ]
  },
  {
   "cell_type": "code",
   "execution_count": 256,
   "id": "ecf19b26",
   "metadata": {},
   "outputs": [
    {
     "data": {
      "text/plain": [
       "0.9893024928748385"
      ]
     },
     "execution_count": 256,
     "metadata": {},
     "output_type": "execute_result"
    }
   ],
   "source": [
    "LR.score(x_test,y_test)"
   ]
  },
  {
   "cell_type": "code",
   "execution_count": 257,
   "id": "0c845ba4",
   "metadata": {},
   "outputs": [],
   "source": [
    "y_predicted=LR.predict(x_test)"
   ]
  },
  {
   "cell_type": "code",
   "execution_count": 258,
   "id": "3cff7180",
   "metadata": {},
   "outputs": [],
   "source": [
    "from sklearn.metrics import mean_absolute_error,root_mean_squared_error, mean_absolute_error"
   ]
  },
  {
   "cell_type": "code",
   "execution_count": 259,
   "id": "5567d2fb",
   "metadata": {},
   "outputs": [
    {
     "name": "stdout",
     "output_type": "stream",
     "text": [
      "1220.1977237794508\n",
      "1701.3401693589608\n",
      "1220.1977237794508\n"
     ]
    }
   ],
   "source": [
    "print(mean_absolute_error(y_predicted,y_test))\n",
    "print(root_mean_squared_error(y_predicted,y_test))\n",
    "print(mean_absolute_error(y_predicted,y_test))"
   ]
  },
  {
   "cell_type": "code",
   "execution_count": 260,
   "id": "60183c78",
   "metadata": {},
   "outputs": [
    {
     "data": {
      "text/plain": [
       "(array([39081.16197022, 20922.7133473 , 24033.49601983, 39634.70148728,\n",
       "        31209.15856848]),\n",
       " 424    37560.0\n",
       " 77     21825.0\n",
       " 180    24589.0\n",
       " 31     37995.0\n",
       " 363    31545.0\n",
       " Name: MSRP, dtype: float64)"
      ]
     },
     "execution_count": 260,
     "metadata": {},
     "output_type": "execute_result"
    }
   ],
   "source": [
    "y_predicted[:5],y_test[:5]"
   ]
  },
  {
   "cell_type": "markdown",
   "id": "ee3f9564",
   "metadata": {},
   "source": [
    "Can we classify cars into their correct Type based on specifications?\n",
    "\n"
   ]
  },
  {
   "cell_type": "code",
   "execution_count": 261,
   "id": "57200446",
   "metadata": {},
   "outputs": [
    {
     "data": {
      "text/html": [
       "<div>\n",
       "<style scoped>\n",
       "    .dataframe tbody tr th:only-of-type {\n",
       "        vertical-align: middle;\n",
       "    }\n",
       "\n",
       "    .dataframe tbody tr th {\n",
       "        vertical-align: top;\n",
       "    }\n",
       "\n",
       "    .dataframe thead th {\n",
       "        text-align: right;\n",
       "    }\n",
       "</style>\n",
       "<table border=\"1\" class=\"dataframe\">\n",
       "  <thead>\n",
       "    <tr style=\"text-align: right;\">\n",
       "      <th></th>\n",
       "      <th>Make</th>\n",
       "      <th>Model</th>\n",
       "      <th>Type</th>\n",
       "      <th>Origin</th>\n",
       "      <th>DriveTrain</th>\n",
       "      <th>MSRP</th>\n",
       "      <th>Invoice</th>\n",
       "      <th>EngineSize</th>\n",
       "      <th>Cylinders</th>\n",
       "      <th>Horsepower</th>\n",
       "      <th>...</th>\n",
       "      <th>MPG_Highway</th>\n",
       "      <th>Weight</th>\n",
       "      <th>Wheelbase</th>\n",
       "      <th>Length</th>\n",
       "      <th>MPG</th>\n",
       "      <th>Clusters</th>\n",
       "      <th>ProfitMargin</th>\n",
       "      <th>Price_per_HP</th>\n",
       "      <th>MPG_per_dollar</th>\n",
       "      <th>Value</th>\n",
       "    </tr>\n",
       "  </thead>\n",
       "  <tbody>\n",
       "    <tr>\n",
       "      <th>0</th>\n",
       "      <td>Acura</td>\n",
       "      <td>MDX</td>\n",
       "      <td>SUV</td>\n",
       "      <td>Asia</td>\n",
       "      <td>All</td>\n",
       "      <td>36945.0</td>\n",
       "      <td>33337.0</td>\n",
       "      <td>3.5</td>\n",
       "      <td>6.0</td>\n",
       "      <td>265.0</td>\n",
       "      <td>...</td>\n",
       "      <td>23.0</td>\n",
       "      <td>4451.0</td>\n",
       "      <td>106.0</td>\n",
       "      <td>189.0</td>\n",
       "      <td>20.0</td>\n",
       "      <td>Luxury Cars</td>\n",
       "      <td>3608.0</td>\n",
       "      <td>139.415094</td>\n",
       "      <td>1847.250000</td>\n",
       "      <td>0.000541</td>\n",
       "    </tr>\n",
       "    <tr>\n",
       "      <th>1</th>\n",
       "      <td>Acura</td>\n",
       "      <td>RSX Type S 2dr</td>\n",
       "      <td>Sedan</td>\n",
       "      <td>Asia</td>\n",
       "      <td>Front</td>\n",
       "      <td>23820.0</td>\n",
       "      <td>21761.0</td>\n",
       "      <td>2.0</td>\n",
       "      <td>4.0</td>\n",
       "      <td>200.0</td>\n",
       "      <td>...</td>\n",
       "      <td>31.0</td>\n",
       "      <td>2778.0</td>\n",
       "      <td>101.0</td>\n",
       "      <td>172.0</td>\n",
       "      <td>27.5</td>\n",
       "      <td>Economy Cars</td>\n",
       "      <td>2059.0</td>\n",
       "      <td>119.100000</td>\n",
       "      <td>866.181818</td>\n",
       "      <td>0.001154</td>\n",
       "    </tr>\n",
       "    <tr>\n",
       "      <th>2</th>\n",
       "      <td>Acura</td>\n",
       "      <td>TSX 4dr</td>\n",
       "      <td>Sedan</td>\n",
       "      <td>Asia</td>\n",
       "      <td>Front</td>\n",
       "      <td>26990.0</td>\n",
       "      <td>24647.0</td>\n",
       "      <td>2.4</td>\n",
       "      <td>4.0</td>\n",
       "      <td>200.0</td>\n",
       "      <td>...</td>\n",
       "      <td>29.0</td>\n",
       "      <td>3230.0</td>\n",
       "      <td>105.0</td>\n",
       "      <td>183.0</td>\n",
       "      <td>25.5</td>\n",
       "      <td>Sports Cars</td>\n",
       "      <td>2343.0</td>\n",
       "      <td>134.950000</td>\n",
       "      <td>1058.431373</td>\n",
       "      <td>0.000945</td>\n",
       "    </tr>\n",
       "    <tr>\n",
       "      <th>3</th>\n",
       "      <td>Acura</td>\n",
       "      <td>TL 4dr</td>\n",
       "      <td>Sedan</td>\n",
       "      <td>Asia</td>\n",
       "      <td>Front</td>\n",
       "      <td>33195.0</td>\n",
       "      <td>30299.0</td>\n",
       "      <td>3.2</td>\n",
       "      <td>6.0</td>\n",
       "      <td>270.0</td>\n",
       "      <td>...</td>\n",
       "      <td>28.0</td>\n",
       "      <td>3575.0</td>\n",
       "      <td>108.0</td>\n",
       "      <td>186.0</td>\n",
       "      <td>24.0</td>\n",
       "      <td>Sports Cars</td>\n",
       "      <td>2896.0</td>\n",
       "      <td>122.944444</td>\n",
       "      <td>1383.125000</td>\n",
       "      <td>0.000723</td>\n",
       "    </tr>\n",
       "    <tr>\n",
       "      <th>4</th>\n",
       "      <td>Acura</td>\n",
       "      <td>3.5 RL 4dr</td>\n",
       "      <td>Sedan</td>\n",
       "      <td>Asia</td>\n",
       "      <td>Front</td>\n",
       "      <td>43755.0</td>\n",
       "      <td>39014.0</td>\n",
       "      <td>3.5</td>\n",
       "      <td>6.0</td>\n",
       "      <td>225.0</td>\n",
       "      <td>...</td>\n",
       "      <td>24.0</td>\n",
       "      <td>3880.0</td>\n",
       "      <td>115.0</td>\n",
       "      <td>197.0</td>\n",
       "      <td>21.0</td>\n",
       "      <td>Sports Cars</td>\n",
       "      <td>4741.0</td>\n",
       "      <td>194.466667</td>\n",
       "      <td>2083.571429</td>\n",
       "      <td>0.000480</td>\n",
       "    </tr>\n",
       "    <tr>\n",
       "      <th>...</th>\n",
       "      <td>...</td>\n",
       "      <td>...</td>\n",
       "      <td>...</td>\n",
       "      <td>...</td>\n",
       "      <td>...</td>\n",
       "      <td>...</td>\n",
       "      <td>...</td>\n",
       "      <td>...</td>\n",
       "      <td>...</td>\n",
       "      <td>...</td>\n",
       "      <td>...</td>\n",
       "      <td>...</td>\n",
       "      <td>...</td>\n",
       "      <td>...</td>\n",
       "      <td>...</td>\n",
       "      <td>...</td>\n",
       "      <td>...</td>\n",
       "      <td>...</td>\n",
       "      <td>...</td>\n",
       "      <td>...</td>\n",
       "      <td>...</td>\n",
       "    </tr>\n",
       "    <tr>\n",
       "      <th>427</th>\n",
       "      <td>Volvo</td>\n",
       "      <td>C70 LPT convertible 2dr</td>\n",
       "      <td>Sedan</td>\n",
       "      <td>Europe</td>\n",
       "      <td>Front</td>\n",
       "      <td>40565.0</td>\n",
       "      <td>38203.0</td>\n",
       "      <td>2.4</td>\n",
       "      <td>5.0</td>\n",
       "      <td>197.0</td>\n",
       "      <td>...</td>\n",
       "      <td>28.0</td>\n",
       "      <td>3450.0</td>\n",
       "      <td>105.0</td>\n",
       "      <td>186.0</td>\n",
       "      <td>24.5</td>\n",
       "      <td>Sports Cars</td>\n",
       "      <td>2362.0</td>\n",
       "      <td>205.913706</td>\n",
       "      <td>1655.714286</td>\n",
       "      <td>0.000604</td>\n",
       "    </tr>\n",
       "    <tr>\n",
       "      <th>428</th>\n",
       "      <td>Volvo</td>\n",
       "      <td>C70 HPT convertible 2dr</td>\n",
       "      <td>Sedan</td>\n",
       "      <td>Europe</td>\n",
       "      <td>Front</td>\n",
       "      <td>42565.0</td>\n",
       "      <td>40083.0</td>\n",
       "      <td>2.3</td>\n",
       "      <td>5.0</td>\n",
       "      <td>242.0</td>\n",
       "      <td>...</td>\n",
       "      <td>26.0</td>\n",
       "      <td>3450.0</td>\n",
       "      <td>105.0</td>\n",
       "      <td>186.0</td>\n",
       "      <td>23.0</td>\n",
       "      <td>Sports Cars</td>\n",
       "      <td>2482.0</td>\n",
       "      <td>175.888430</td>\n",
       "      <td>1850.652174</td>\n",
       "      <td>0.000540</td>\n",
       "    </tr>\n",
       "    <tr>\n",
       "      <th>429</th>\n",
       "      <td>Volvo</td>\n",
       "      <td>S80 T6 4dr</td>\n",
       "      <td>Sedan</td>\n",
       "      <td>Europe</td>\n",
       "      <td>Front</td>\n",
       "      <td>45210.0</td>\n",
       "      <td>42573.0</td>\n",
       "      <td>2.9</td>\n",
       "      <td>6.0</td>\n",
       "      <td>268.0</td>\n",
       "      <td>...</td>\n",
       "      <td>26.0</td>\n",
       "      <td>3653.0</td>\n",
       "      <td>110.0</td>\n",
       "      <td>190.0</td>\n",
       "      <td>22.5</td>\n",
       "      <td>Sports Cars</td>\n",
       "      <td>2637.0</td>\n",
       "      <td>168.694030</td>\n",
       "      <td>2009.333333</td>\n",
       "      <td>0.000498</td>\n",
       "    </tr>\n",
       "    <tr>\n",
       "      <th>430</th>\n",
       "      <td>Volvo</td>\n",
       "      <td>V40</td>\n",
       "      <td>Wagon</td>\n",
       "      <td>Europe</td>\n",
       "      <td>Front</td>\n",
       "      <td>26135.0</td>\n",
       "      <td>24641.0</td>\n",
       "      <td>1.9</td>\n",
       "      <td>4.0</td>\n",
       "      <td>170.0</td>\n",
       "      <td>...</td>\n",
       "      <td>29.0</td>\n",
       "      <td>2822.0</td>\n",
       "      <td>101.0</td>\n",
       "      <td>180.0</td>\n",
       "      <td>25.5</td>\n",
       "      <td>Economy Cars</td>\n",
       "      <td>1494.0</td>\n",
       "      <td>153.735294</td>\n",
       "      <td>1024.901961</td>\n",
       "      <td>0.000976</td>\n",
       "    </tr>\n",
       "    <tr>\n",
       "      <th>431</th>\n",
       "      <td>Volvo</td>\n",
       "      <td>XC70</td>\n",
       "      <td>Wagon</td>\n",
       "      <td>Europe</td>\n",
       "      <td>All</td>\n",
       "      <td>35145.0</td>\n",
       "      <td>33112.0</td>\n",
       "      <td>2.5</td>\n",
       "      <td>5.0</td>\n",
       "      <td>208.0</td>\n",
       "      <td>...</td>\n",
       "      <td>27.0</td>\n",
       "      <td>3823.0</td>\n",
       "      <td>109.0</td>\n",
       "      <td>186.0</td>\n",
       "      <td>23.5</td>\n",
       "      <td>Sports Cars</td>\n",
       "      <td>2033.0</td>\n",
       "      <td>168.966346</td>\n",
       "      <td>1495.531915</td>\n",
       "      <td>0.000669</td>\n",
       "    </tr>\n",
       "  </tbody>\n",
       "</table>\n",
       "<p>426 rows × 21 columns</p>\n",
       "</div>"
      ],
      "text/plain": [
       "      Make                    Model   Type  Origin DriveTrain     MSRP  \\\n",
       "0    Acura                      MDX    SUV    Asia        All  36945.0   \n",
       "1    Acura           RSX Type S 2dr  Sedan    Asia      Front  23820.0   \n",
       "2    Acura                  TSX 4dr  Sedan    Asia      Front  26990.0   \n",
       "3    Acura                   TL 4dr  Sedan    Asia      Front  33195.0   \n",
       "4    Acura               3.5 RL 4dr  Sedan    Asia      Front  43755.0   \n",
       "..     ...                      ...    ...     ...        ...      ...   \n",
       "427  Volvo  C70 LPT convertible 2dr  Sedan  Europe      Front  40565.0   \n",
       "428  Volvo  C70 HPT convertible 2dr  Sedan  Europe      Front  42565.0   \n",
       "429  Volvo               S80 T6 4dr  Sedan  Europe      Front  45210.0   \n",
       "430  Volvo                      V40  Wagon  Europe      Front  26135.0   \n",
       "431  Volvo                     XC70  Wagon  Europe        All  35145.0   \n",
       "\n",
       "     Invoice  EngineSize  Cylinders  Horsepower  ...  MPG_Highway  Weight  \\\n",
       "0    33337.0         3.5        6.0       265.0  ...         23.0  4451.0   \n",
       "1    21761.0         2.0        4.0       200.0  ...         31.0  2778.0   \n",
       "2    24647.0         2.4        4.0       200.0  ...         29.0  3230.0   \n",
       "3    30299.0         3.2        6.0       270.0  ...         28.0  3575.0   \n",
       "4    39014.0         3.5        6.0       225.0  ...         24.0  3880.0   \n",
       "..       ...         ...        ...         ...  ...          ...     ...   \n",
       "427  38203.0         2.4        5.0       197.0  ...         28.0  3450.0   \n",
       "428  40083.0         2.3        5.0       242.0  ...         26.0  3450.0   \n",
       "429  42573.0         2.9        6.0       268.0  ...         26.0  3653.0   \n",
       "430  24641.0         1.9        4.0       170.0  ...         29.0  2822.0   \n",
       "431  33112.0         2.5        5.0       208.0  ...         27.0  3823.0   \n",
       "\n",
       "     Wheelbase  Length   MPG      Clusters ProfitMargin  Price_per_HP  \\\n",
       "0        106.0   189.0  20.0   Luxury Cars       3608.0    139.415094   \n",
       "1        101.0   172.0  27.5  Economy Cars       2059.0    119.100000   \n",
       "2        105.0   183.0  25.5   Sports Cars       2343.0    134.950000   \n",
       "3        108.0   186.0  24.0   Sports Cars       2896.0    122.944444   \n",
       "4        115.0   197.0  21.0   Sports Cars       4741.0    194.466667   \n",
       "..         ...     ...   ...           ...          ...           ...   \n",
       "427      105.0   186.0  24.5   Sports Cars       2362.0    205.913706   \n",
       "428      105.0   186.0  23.0   Sports Cars       2482.0    175.888430   \n",
       "429      110.0   190.0  22.5   Sports Cars       2637.0    168.694030   \n",
       "430      101.0   180.0  25.5  Economy Cars       1494.0    153.735294   \n",
       "431      109.0   186.0  23.5   Sports Cars       2033.0    168.966346   \n",
       "\n",
       "     MPG_per_dollar     Value  \n",
       "0       1847.250000  0.000541  \n",
       "1        866.181818  0.001154  \n",
       "2       1058.431373  0.000945  \n",
       "3       1383.125000  0.000723  \n",
       "4       2083.571429  0.000480  \n",
       "..              ...       ...  \n",
       "427     1655.714286  0.000604  \n",
       "428     1850.652174  0.000540  \n",
       "429     2009.333333  0.000498  \n",
       "430     1024.901961  0.000976  \n",
       "431     1495.531915  0.000669  \n",
       "\n",
       "[426 rows x 21 columns]"
      ]
     },
     "execution_count": 261,
     "metadata": {},
     "output_type": "execute_result"
    }
   ],
   "source": [
    "data"
   ]
  },
  {
   "cell_type": "code",
   "execution_count": 262,
   "id": "f2f5f612",
   "metadata": {},
   "outputs": [
    {
     "data": {
      "text/plain": [
       "Index(['Make', 'Model', 'Type', 'Origin', 'DriveTrain', 'MSRP', 'Invoice',\n",
       "       'EngineSize', 'Cylinders', 'Horsepower', 'MPG_City', 'MPG_Highway',\n",
       "       'Weight', 'Wheelbase', 'Length', 'MPG', 'Clusters', 'ProfitMargin',\n",
       "       'Price_per_HP', 'MPG_per_dollar', 'Value'],\n",
       "      dtype='object')"
      ]
     },
     "execution_count": 262,
     "metadata": {},
     "output_type": "execute_result"
    }
   ],
   "source": [
    "data.columns"
   ]
  },
  {
   "cell_type": "code",
   "execution_count": 263,
   "id": "4a19c151",
   "metadata": {},
   "outputs": [],
   "source": [
    "y= data[\"Type\"]\n",
    "x1=data[['EngineSize', 'Cylinders', 'Horsepower', 'MPG_City', 'MPG_Highway',\n",
    "       'Weight', 'Wheelbase', 'Length']]\n"
   ]
  },
  {
   "cell_type": "code",
   "execution_count": 264,
   "id": "aee47296",
   "metadata": {},
   "outputs": [
    {
     "data": {
      "text/html": [
       "<div>\n",
       "<style scoped>\n",
       "    .dataframe tbody tr th:only-of-type {\n",
       "        vertical-align: middle;\n",
       "    }\n",
       "\n",
       "    .dataframe tbody tr th {\n",
       "        vertical-align: top;\n",
       "    }\n",
       "\n",
       "    .dataframe thead th {\n",
       "        text-align: right;\n",
       "    }\n",
       "</style>\n",
       "<table border=\"1\" class=\"dataframe\">\n",
       "  <thead>\n",
       "    <tr style=\"text-align: right;\">\n",
       "      <th></th>\n",
       "      <th>EngineSize</th>\n",
       "      <th>Cylinders</th>\n",
       "      <th>Horsepower</th>\n",
       "      <th>MPG_City</th>\n",
       "      <th>MPG_Highway</th>\n",
       "      <th>Weight</th>\n",
       "      <th>Wheelbase</th>\n",
       "      <th>Length</th>\n",
       "    </tr>\n",
       "  </thead>\n",
       "  <tbody>\n",
       "    <tr>\n",
       "      <th>0</th>\n",
       "      <td>0.304348</td>\n",
       "      <td>0.333333</td>\n",
       "      <td>0.449649</td>\n",
       "      <td>0.14</td>\n",
       "      <td>0.203704</td>\n",
       "      <td>0.487079</td>\n",
       "      <td>0.309091</td>\n",
       "      <td>0.484211</td>\n",
       "    </tr>\n",
       "    <tr>\n",
       "      <th>1</th>\n",
       "      <td>0.086957</td>\n",
       "      <td>0.111111</td>\n",
       "      <td>0.297424</td>\n",
       "      <td>0.28</td>\n",
       "      <td>0.351852</td>\n",
       "      <td>0.173783</td>\n",
       "      <td>0.218182</td>\n",
       "      <td>0.305263</td>\n",
       "    </tr>\n",
       "    <tr>\n",
       "      <th>2</th>\n",
       "      <td>0.144928</td>\n",
       "      <td>0.111111</td>\n",
       "      <td>0.297424</td>\n",
       "      <td>0.24</td>\n",
       "      <td>0.314815</td>\n",
       "      <td>0.258427</td>\n",
       "      <td>0.290909</td>\n",
       "      <td>0.421053</td>\n",
       "    </tr>\n",
       "    <tr>\n",
       "      <th>3</th>\n",
       "      <td>0.260870</td>\n",
       "      <td>0.333333</td>\n",
       "      <td>0.461358</td>\n",
       "      <td>0.20</td>\n",
       "      <td>0.296296</td>\n",
       "      <td>0.323034</td>\n",
       "      <td>0.345455</td>\n",
       "      <td>0.452632</td>\n",
       "    </tr>\n",
       "    <tr>\n",
       "      <th>4</th>\n",
       "      <td>0.304348</td>\n",
       "      <td>0.333333</td>\n",
       "      <td>0.355972</td>\n",
       "      <td>0.16</td>\n",
       "      <td>0.222222</td>\n",
       "      <td>0.380150</td>\n",
       "      <td>0.472727</td>\n",
       "      <td>0.568421</td>\n",
       "    </tr>\n",
       "    <tr>\n",
       "      <th>...</th>\n",
       "      <td>...</td>\n",
       "      <td>...</td>\n",
       "      <td>...</td>\n",
       "      <td>...</td>\n",
       "      <td>...</td>\n",
       "      <td>...</td>\n",
       "      <td>...</td>\n",
       "      <td>...</td>\n",
       "    </tr>\n",
       "    <tr>\n",
       "      <th>421</th>\n",
       "      <td>0.144928</td>\n",
       "      <td>0.222222</td>\n",
       "      <td>0.290398</td>\n",
       "      <td>0.22</td>\n",
       "      <td>0.296296</td>\n",
       "      <td>0.299625</td>\n",
       "      <td>0.290909</td>\n",
       "      <td>0.452632</td>\n",
       "    </tr>\n",
       "    <tr>\n",
       "      <th>422</th>\n",
       "      <td>0.130435</td>\n",
       "      <td>0.222222</td>\n",
       "      <td>0.395785</td>\n",
       "      <td>0.20</td>\n",
       "      <td>0.259259</td>\n",
       "      <td>0.299625</td>\n",
       "      <td>0.290909</td>\n",
       "      <td>0.452632</td>\n",
       "    </tr>\n",
       "    <tr>\n",
       "      <th>423</th>\n",
       "      <td>0.217391</td>\n",
       "      <td>0.333333</td>\n",
       "      <td>0.456674</td>\n",
       "      <td>0.18</td>\n",
       "      <td>0.259259</td>\n",
       "      <td>0.337640</td>\n",
       "      <td>0.381818</td>\n",
       "      <td>0.494737</td>\n",
       "    </tr>\n",
       "    <tr>\n",
       "      <th>424</th>\n",
       "      <td>0.072464</td>\n",
       "      <td>0.111111</td>\n",
       "      <td>0.227166</td>\n",
       "      <td>0.24</td>\n",
       "      <td>0.314815</td>\n",
       "      <td>0.182022</td>\n",
       "      <td>0.218182</td>\n",
       "      <td>0.389474</td>\n",
       "    </tr>\n",
       "    <tr>\n",
       "      <th>425</th>\n",
       "      <td>0.159420</td>\n",
       "      <td>0.222222</td>\n",
       "      <td>0.316159</td>\n",
       "      <td>0.20</td>\n",
       "      <td>0.277778</td>\n",
       "      <td>0.369476</td>\n",
       "      <td>0.363636</td>\n",
       "      <td>0.452632</td>\n",
       "    </tr>\n",
       "  </tbody>\n",
       "</table>\n",
       "<p>426 rows × 8 columns</p>\n",
       "</div>"
      ],
      "text/plain": [
       "     EngineSize  Cylinders  Horsepower  MPG_City  MPG_Highway    Weight  \\\n",
       "0      0.304348   0.333333    0.449649      0.14     0.203704  0.487079   \n",
       "1      0.086957   0.111111    0.297424      0.28     0.351852  0.173783   \n",
       "2      0.144928   0.111111    0.297424      0.24     0.314815  0.258427   \n",
       "3      0.260870   0.333333    0.461358      0.20     0.296296  0.323034   \n",
       "4      0.304348   0.333333    0.355972      0.16     0.222222  0.380150   \n",
       "..          ...        ...         ...       ...          ...       ...   \n",
       "421    0.144928   0.222222    0.290398      0.22     0.296296  0.299625   \n",
       "422    0.130435   0.222222    0.395785      0.20     0.259259  0.299625   \n",
       "423    0.217391   0.333333    0.456674      0.18     0.259259  0.337640   \n",
       "424    0.072464   0.111111    0.227166      0.24     0.314815  0.182022   \n",
       "425    0.159420   0.222222    0.316159      0.20     0.277778  0.369476   \n",
       "\n",
       "     Wheelbase    Length  \n",
       "0     0.309091  0.484211  \n",
       "1     0.218182  0.305263  \n",
       "2     0.290909  0.421053  \n",
       "3     0.345455  0.452632  \n",
       "4     0.472727  0.568421  \n",
       "..         ...       ...  \n",
       "421   0.290909  0.452632  \n",
       "422   0.290909  0.452632  \n",
       "423   0.381818  0.494737  \n",
       "424   0.218182  0.389474  \n",
       "425   0.363636  0.452632  \n",
       "\n",
       "[426 rows x 8 columns]"
      ]
     },
     "execution_count": 264,
     "metadata": {},
     "output_type": "execute_result"
    }
   ],
   "source": [
    "from sklearn.preprocessing import MinMaxScaler\n",
    "scaler = MinMaxScaler(feature_range=(0,1))\n",
    "\n",
    "\n",
    "x_scaled1 = pd.DataFrame(scaler.fit_transform(x1),columns=x1.columns)\n",
    "x_scaled1"
   ]
  },
  {
   "cell_type": "code",
   "execution_count": 265,
   "id": "1a14baf3",
   "metadata": {},
   "outputs": [
    {
     "data": {
      "text/plain": [
       "((362, 8), (64, 8), (362,), (64,))"
      ]
     },
     "execution_count": 265,
     "metadata": {},
     "output_type": "execute_result"
    }
   ],
   "source": [
    "from sklearn.model_selection import train_test_split\n",
    "\n",
    "x_train,x_test,y_train,y_test = train_test_split(x_scaled1,y, train_size=0.85,random_state=42)\n",
    "x_train.shape,x_test.shape,y_train.shape,y_test.shape"
   ]
  },
  {
   "cell_type": "code",
   "execution_count": 266,
   "id": "cf19d338",
   "metadata": {},
   "outputs": [
    {
     "data": {
      "text/html": [
       "<style>#sk-container-id-10 {\n",
       "  /* Definition of color scheme common for light and dark mode */\n",
       "  --sklearn-color-text: #000;\n",
       "  --sklearn-color-text-muted: #666;\n",
       "  --sklearn-color-line: gray;\n",
       "  /* Definition of color scheme for unfitted estimators */\n",
       "  --sklearn-color-unfitted-level-0: #fff5e6;\n",
       "  --sklearn-color-unfitted-level-1: #f6e4d2;\n",
       "  --sklearn-color-unfitted-level-2: #ffe0b3;\n",
       "  --sklearn-color-unfitted-level-3: chocolate;\n",
       "  /* Definition of color scheme for fitted estimators */\n",
       "  --sklearn-color-fitted-level-0: #f0f8ff;\n",
       "  --sklearn-color-fitted-level-1: #d4ebff;\n",
       "  --sklearn-color-fitted-level-2: #b3dbfd;\n",
       "  --sklearn-color-fitted-level-3: cornflowerblue;\n",
       "\n",
       "  /* Specific color for light theme */\n",
       "  --sklearn-color-text-on-default-background: var(--sg-text-color, var(--theme-code-foreground, var(--jp-content-font-color1, black)));\n",
       "  --sklearn-color-background: var(--sg-background-color, var(--theme-background, var(--jp-layout-color0, white)));\n",
       "  --sklearn-color-border-box: var(--sg-text-color, var(--theme-code-foreground, var(--jp-content-font-color1, black)));\n",
       "  --sklearn-color-icon: #696969;\n",
       "\n",
       "  @media (prefers-color-scheme: dark) {\n",
       "    /* Redefinition of color scheme for dark theme */\n",
       "    --sklearn-color-text-on-default-background: var(--sg-text-color, var(--theme-code-foreground, var(--jp-content-font-color1, white)));\n",
       "    --sklearn-color-background: var(--sg-background-color, var(--theme-background, var(--jp-layout-color0, #111)));\n",
       "    --sklearn-color-border-box: var(--sg-text-color, var(--theme-code-foreground, var(--jp-content-font-color1, white)));\n",
       "    --sklearn-color-icon: #878787;\n",
       "  }\n",
       "}\n",
       "\n",
       "#sk-container-id-10 {\n",
       "  color: var(--sklearn-color-text);\n",
       "}\n",
       "\n",
       "#sk-container-id-10 pre {\n",
       "  padding: 0;\n",
       "}\n",
       "\n",
       "#sk-container-id-10 input.sk-hidden--visually {\n",
       "  border: 0;\n",
       "  clip: rect(1px 1px 1px 1px);\n",
       "  clip: rect(1px, 1px, 1px, 1px);\n",
       "  height: 1px;\n",
       "  margin: -1px;\n",
       "  overflow: hidden;\n",
       "  padding: 0;\n",
       "  position: absolute;\n",
       "  width: 1px;\n",
       "}\n",
       "\n",
       "#sk-container-id-10 div.sk-dashed-wrapped {\n",
       "  border: 1px dashed var(--sklearn-color-line);\n",
       "  margin: 0 0.4em 0.5em 0.4em;\n",
       "  box-sizing: border-box;\n",
       "  padding-bottom: 0.4em;\n",
       "  background-color: var(--sklearn-color-background);\n",
       "}\n",
       "\n",
       "#sk-container-id-10 div.sk-container {\n",
       "  /* jupyter's `normalize.less` sets `[hidden] { display: none; }`\n",
       "     but bootstrap.min.css set `[hidden] { display: none !important; }`\n",
       "     so we also need the `!important` here to be able to override the\n",
       "     default hidden behavior on the sphinx rendered scikit-learn.org.\n",
       "     See: https://github.com/scikit-learn/scikit-learn/issues/21755 */\n",
       "  display: inline-block !important;\n",
       "  position: relative;\n",
       "}\n",
       "\n",
       "#sk-container-id-10 div.sk-text-repr-fallback {\n",
       "  display: none;\n",
       "}\n",
       "\n",
       "div.sk-parallel-item,\n",
       "div.sk-serial,\n",
       "div.sk-item {\n",
       "  /* draw centered vertical line to link estimators */\n",
       "  background-image: linear-gradient(var(--sklearn-color-text-on-default-background), var(--sklearn-color-text-on-default-background));\n",
       "  background-size: 2px 100%;\n",
       "  background-repeat: no-repeat;\n",
       "  background-position: center center;\n",
       "}\n",
       "\n",
       "/* Parallel-specific style estimator block */\n",
       "\n",
       "#sk-container-id-10 div.sk-parallel-item::after {\n",
       "  content: \"\";\n",
       "  width: 100%;\n",
       "  border-bottom: 2px solid var(--sklearn-color-text-on-default-background);\n",
       "  flex-grow: 1;\n",
       "}\n",
       "\n",
       "#sk-container-id-10 div.sk-parallel {\n",
       "  display: flex;\n",
       "  align-items: stretch;\n",
       "  justify-content: center;\n",
       "  background-color: var(--sklearn-color-background);\n",
       "  position: relative;\n",
       "}\n",
       "\n",
       "#sk-container-id-10 div.sk-parallel-item {\n",
       "  display: flex;\n",
       "  flex-direction: column;\n",
       "}\n",
       "\n",
       "#sk-container-id-10 div.sk-parallel-item:first-child::after {\n",
       "  align-self: flex-end;\n",
       "  width: 50%;\n",
       "}\n",
       "\n",
       "#sk-container-id-10 div.sk-parallel-item:last-child::after {\n",
       "  align-self: flex-start;\n",
       "  width: 50%;\n",
       "}\n",
       "\n",
       "#sk-container-id-10 div.sk-parallel-item:only-child::after {\n",
       "  width: 0;\n",
       "}\n",
       "\n",
       "/* Serial-specific style estimator block */\n",
       "\n",
       "#sk-container-id-10 div.sk-serial {\n",
       "  display: flex;\n",
       "  flex-direction: column;\n",
       "  align-items: center;\n",
       "  background-color: var(--sklearn-color-background);\n",
       "  padding-right: 1em;\n",
       "  padding-left: 1em;\n",
       "}\n",
       "\n",
       "\n",
       "/* Toggleable style: style used for estimator/Pipeline/ColumnTransformer box that is\n",
       "clickable and can be expanded/collapsed.\n",
       "- Pipeline and ColumnTransformer use this feature and define the default style\n",
       "- Estimators will overwrite some part of the style using the `sk-estimator` class\n",
       "*/\n",
       "\n",
       "/* Pipeline and ColumnTransformer style (default) */\n",
       "\n",
       "#sk-container-id-10 div.sk-toggleable {\n",
       "  /* Default theme specific background. It is overwritten whether we have a\n",
       "  specific estimator or a Pipeline/ColumnTransformer */\n",
       "  background-color: var(--sklearn-color-background);\n",
       "}\n",
       "\n",
       "/* Toggleable label */\n",
       "#sk-container-id-10 label.sk-toggleable__label {\n",
       "  cursor: pointer;\n",
       "  display: flex;\n",
       "  width: 100%;\n",
       "  margin-bottom: 0;\n",
       "  padding: 0.5em;\n",
       "  box-sizing: border-box;\n",
       "  text-align: center;\n",
       "  align-items: start;\n",
       "  justify-content: space-between;\n",
       "  gap: 0.5em;\n",
       "}\n",
       "\n",
       "#sk-container-id-10 label.sk-toggleable__label .caption {\n",
       "  font-size: 0.6rem;\n",
       "  font-weight: lighter;\n",
       "  color: var(--sklearn-color-text-muted);\n",
       "}\n",
       "\n",
       "#sk-container-id-10 label.sk-toggleable__label-arrow:before {\n",
       "  /* Arrow on the left of the label */\n",
       "  content: \"▸\";\n",
       "  float: left;\n",
       "  margin-right: 0.25em;\n",
       "  color: var(--sklearn-color-icon);\n",
       "}\n",
       "\n",
       "#sk-container-id-10 label.sk-toggleable__label-arrow:hover:before {\n",
       "  color: var(--sklearn-color-text);\n",
       "}\n",
       "\n",
       "/* Toggleable content - dropdown */\n",
       "\n",
       "#sk-container-id-10 div.sk-toggleable__content {\n",
       "  max-height: 0;\n",
       "  max-width: 0;\n",
       "  overflow: hidden;\n",
       "  text-align: left;\n",
       "  /* unfitted */\n",
       "  background-color: var(--sklearn-color-unfitted-level-0);\n",
       "}\n",
       "\n",
       "#sk-container-id-10 div.sk-toggleable__content.fitted {\n",
       "  /* fitted */\n",
       "  background-color: var(--sklearn-color-fitted-level-0);\n",
       "}\n",
       "\n",
       "#sk-container-id-10 div.sk-toggleable__content pre {\n",
       "  margin: 0.2em;\n",
       "  border-radius: 0.25em;\n",
       "  color: var(--sklearn-color-text);\n",
       "  /* unfitted */\n",
       "  background-color: var(--sklearn-color-unfitted-level-0);\n",
       "}\n",
       "\n",
       "#sk-container-id-10 div.sk-toggleable__content.fitted pre {\n",
       "  /* unfitted */\n",
       "  background-color: var(--sklearn-color-fitted-level-0);\n",
       "}\n",
       "\n",
       "#sk-container-id-10 input.sk-toggleable__control:checked~div.sk-toggleable__content {\n",
       "  /* Expand drop-down */\n",
       "  max-height: 200px;\n",
       "  max-width: 100%;\n",
       "  overflow: auto;\n",
       "}\n",
       "\n",
       "#sk-container-id-10 input.sk-toggleable__control:checked~label.sk-toggleable__label-arrow:before {\n",
       "  content: \"▾\";\n",
       "}\n",
       "\n",
       "/* Pipeline/ColumnTransformer-specific style */\n",
       "\n",
       "#sk-container-id-10 div.sk-label input.sk-toggleable__control:checked~label.sk-toggleable__label {\n",
       "  color: var(--sklearn-color-text);\n",
       "  background-color: var(--sklearn-color-unfitted-level-2);\n",
       "}\n",
       "\n",
       "#sk-container-id-10 div.sk-label.fitted input.sk-toggleable__control:checked~label.sk-toggleable__label {\n",
       "  background-color: var(--sklearn-color-fitted-level-2);\n",
       "}\n",
       "\n",
       "/* Estimator-specific style */\n",
       "\n",
       "/* Colorize estimator box */\n",
       "#sk-container-id-10 div.sk-estimator input.sk-toggleable__control:checked~label.sk-toggleable__label {\n",
       "  /* unfitted */\n",
       "  background-color: var(--sklearn-color-unfitted-level-2);\n",
       "}\n",
       "\n",
       "#sk-container-id-10 div.sk-estimator.fitted input.sk-toggleable__control:checked~label.sk-toggleable__label {\n",
       "  /* fitted */\n",
       "  background-color: var(--sklearn-color-fitted-level-2);\n",
       "}\n",
       "\n",
       "#sk-container-id-10 div.sk-label label.sk-toggleable__label,\n",
       "#sk-container-id-10 div.sk-label label {\n",
       "  /* The background is the default theme color */\n",
       "  color: var(--sklearn-color-text-on-default-background);\n",
       "}\n",
       "\n",
       "/* On hover, darken the color of the background */\n",
       "#sk-container-id-10 div.sk-label:hover label.sk-toggleable__label {\n",
       "  color: var(--sklearn-color-text);\n",
       "  background-color: var(--sklearn-color-unfitted-level-2);\n",
       "}\n",
       "\n",
       "/* Label box, darken color on hover, fitted */\n",
       "#sk-container-id-10 div.sk-label.fitted:hover label.sk-toggleable__label.fitted {\n",
       "  color: var(--sklearn-color-text);\n",
       "  background-color: var(--sklearn-color-fitted-level-2);\n",
       "}\n",
       "\n",
       "/* Estimator label */\n",
       "\n",
       "#sk-container-id-10 div.sk-label label {\n",
       "  font-family: monospace;\n",
       "  font-weight: bold;\n",
       "  display: inline-block;\n",
       "  line-height: 1.2em;\n",
       "}\n",
       "\n",
       "#sk-container-id-10 div.sk-label-container {\n",
       "  text-align: center;\n",
       "}\n",
       "\n",
       "/* Estimator-specific */\n",
       "#sk-container-id-10 div.sk-estimator {\n",
       "  font-family: monospace;\n",
       "  border: 1px dotted var(--sklearn-color-border-box);\n",
       "  border-radius: 0.25em;\n",
       "  box-sizing: border-box;\n",
       "  margin-bottom: 0.5em;\n",
       "  /* unfitted */\n",
       "  background-color: var(--sklearn-color-unfitted-level-0);\n",
       "}\n",
       "\n",
       "#sk-container-id-10 div.sk-estimator.fitted {\n",
       "  /* fitted */\n",
       "  background-color: var(--sklearn-color-fitted-level-0);\n",
       "}\n",
       "\n",
       "/* on hover */\n",
       "#sk-container-id-10 div.sk-estimator:hover {\n",
       "  /* unfitted */\n",
       "  background-color: var(--sklearn-color-unfitted-level-2);\n",
       "}\n",
       "\n",
       "#sk-container-id-10 div.sk-estimator.fitted:hover {\n",
       "  /* fitted */\n",
       "  background-color: var(--sklearn-color-fitted-level-2);\n",
       "}\n",
       "\n",
       "/* Specification for estimator info (e.g. \"i\" and \"?\") */\n",
       "\n",
       "/* Common style for \"i\" and \"?\" */\n",
       "\n",
       ".sk-estimator-doc-link,\n",
       "a:link.sk-estimator-doc-link,\n",
       "a:visited.sk-estimator-doc-link {\n",
       "  float: right;\n",
       "  font-size: smaller;\n",
       "  line-height: 1em;\n",
       "  font-family: monospace;\n",
       "  background-color: var(--sklearn-color-background);\n",
       "  border-radius: 1em;\n",
       "  height: 1em;\n",
       "  width: 1em;\n",
       "  text-decoration: none !important;\n",
       "  margin-left: 0.5em;\n",
       "  text-align: center;\n",
       "  /* unfitted */\n",
       "  border: var(--sklearn-color-unfitted-level-1) 1pt solid;\n",
       "  color: var(--sklearn-color-unfitted-level-1);\n",
       "}\n",
       "\n",
       ".sk-estimator-doc-link.fitted,\n",
       "a:link.sk-estimator-doc-link.fitted,\n",
       "a:visited.sk-estimator-doc-link.fitted {\n",
       "  /* fitted */\n",
       "  border: var(--sklearn-color-fitted-level-1) 1pt solid;\n",
       "  color: var(--sklearn-color-fitted-level-1);\n",
       "}\n",
       "\n",
       "/* On hover */\n",
       "div.sk-estimator:hover .sk-estimator-doc-link:hover,\n",
       ".sk-estimator-doc-link:hover,\n",
       "div.sk-label-container:hover .sk-estimator-doc-link:hover,\n",
       ".sk-estimator-doc-link:hover {\n",
       "  /* unfitted */\n",
       "  background-color: var(--sklearn-color-unfitted-level-3);\n",
       "  color: var(--sklearn-color-background);\n",
       "  text-decoration: none;\n",
       "}\n",
       "\n",
       "div.sk-estimator.fitted:hover .sk-estimator-doc-link.fitted:hover,\n",
       ".sk-estimator-doc-link.fitted:hover,\n",
       "div.sk-label-container:hover .sk-estimator-doc-link.fitted:hover,\n",
       ".sk-estimator-doc-link.fitted:hover {\n",
       "  /* fitted */\n",
       "  background-color: var(--sklearn-color-fitted-level-3);\n",
       "  color: var(--sklearn-color-background);\n",
       "  text-decoration: none;\n",
       "}\n",
       "\n",
       "/* Span, style for the box shown on hovering the info icon */\n",
       ".sk-estimator-doc-link span {\n",
       "  display: none;\n",
       "  z-index: 9999;\n",
       "  position: relative;\n",
       "  font-weight: normal;\n",
       "  right: .2ex;\n",
       "  padding: .5ex;\n",
       "  margin: .5ex;\n",
       "  width: min-content;\n",
       "  min-width: 20ex;\n",
       "  max-width: 50ex;\n",
       "  color: var(--sklearn-color-text);\n",
       "  box-shadow: 2pt 2pt 4pt #999;\n",
       "  /* unfitted */\n",
       "  background: var(--sklearn-color-unfitted-level-0);\n",
       "  border: .5pt solid var(--sklearn-color-unfitted-level-3);\n",
       "}\n",
       "\n",
       ".sk-estimator-doc-link.fitted span {\n",
       "  /* fitted */\n",
       "  background: var(--sklearn-color-fitted-level-0);\n",
       "  border: var(--sklearn-color-fitted-level-3);\n",
       "}\n",
       "\n",
       ".sk-estimator-doc-link:hover span {\n",
       "  display: block;\n",
       "}\n",
       "\n",
       "/* \"?\"-specific style due to the `<a>` HTML tag */\n",
       "\n",
       "#sk-container-id-10 a.estimator_doc_link {\n",
       "  float: right;\n",
       "  font-size: 1rem;\n",
       "  line-height: 1em;\n",
       "  font-family: monospace;\n",
       "  background-color: var(--sklearn-color-background);\n",
       "  border-radius: 1rem;\n",
       "  height: 1rem;\n",
       "  width: 1rem;\n",
       "  text-decoration: none;\n",
       "  /* unfitted */\n",
       "  color: var(--sklearn-color-unfitted-level-1);\n",
       "  border: var(--sklearn-color-unfitted-level-1) 1pt solid;\n",
       "}\n",
       "\n",
       "#sk-container-id-10 a.estimator_doc_link.fitted {\n",
       "  /* fitted */\n",
       "  border: var(--sklearn-color-fitted-level-1) 1pt solid;\n",
       "  color: var(--sklearn-color-fitted-level-1);\n",
       "}\n",
       "\n",
       "/* On hover */\n",
       "#sk-container-id-10 a.estimator_doc_link:hover {\n",
       "  /* unfitted */\n",
       "  background-color: var(--sklearn-color-unfitted-level-3);\n",
       "  color: var(--sklearn-color-background);\n",
       "  text-decoration: none;\n",
       "}\n",
       "\n",
       "#sk-container-id-10 a.estimator_doc_link.fitted:hover {\n",
       "  /* fitted */\n",
       "  background-color: var(--sklearn-color-fitted-level-3);\n",
       "}\n",
       "</style><div id=\"sk-container-id-10\" class=\"sk-top-container\"><div class=\"sk-text-repr-fallback\"><pre>LogisticRegression()</pre><b>In a Jupyter environment, please rerun this cell to show the HTML representation or trust the notebook. <br />On GitHub, the HTML representation is unable to render, please try loading this page with nbviewer.org.</b></div><div class=\"sk-container\" hidden><div class=\"sk-item\"><div class=\"sk-estimator fitted sk-toggleable\"><input class=\"sk-toggleable__control sk-hidden--visually\" id=\"sk-estimator-id-10\" type=\"checkbox\" checked><label for=\"sk-estimator-id-10\" class=\"sk-toggleable__label fitted sk-toggleable__label-arrow\"><div><div>LogisticRegression</div></div><div><a class=\"sk-estimator-doc-link fitted\" rel=\"noreferrer\" target=\"_blank\" href=\"https://scikit-learn.org/1.6/modules/generated/sklearn.linear_model.LogisticRegression.html\">?<span>Documentation for LogisticRegression</span></a><span class=\"sk-estimator-doc-link fitted\">i<span>Fitted</span></span></div></label><div class=\"sk-toggleable__content fitted\"><pre>LogisticRegression()</pre></div> </div></div></div></div>"
      ],
      "text/plain": [
       "LogisticRegression()"
      ]
     },
     "execution_count": 266,
     "metadata": {},
     "output_type": "execute_result"
    }
   ],
   "source": [
    "from sklearn.linear_model import LogisticRegression\n",
    "LG = LogisticRegression()\n",
    "\n",
    "LG.fit(x_train,y_train)"
   ]
  },
  {
   "cell_type": "code",
   "execution_count": 267,
   "id": "02a28d63",
   "metadata": {},
   "outputs": [
    {
     "data": {
      "text/plain": [
       "0.734375"
      ]
     },
     "execution_count": 267,
     "metadata": {},
     "output_type": "execute_result"
    }
   ],
   "source": [
    "LG.score(x_test,y_test)"
   ]
  },
  {
   "cell_type": "code",
   "execution_count": 268,
   "id": "eb8d91bd",
   "metadata": {},
   "outputs": [],
   "source": [
    "y_predicted=LG.predict(x_test)"
   ]
  },
  {
   "cell_type": "code",
   "execution_count": 269,
   "id": "6464c9cd",
   "metadata": {},
   "outputs": [
    {
     "name": "stdout",
     "output_type": "stream",
     "text": [
      "['Sedan' 'Sedan' 'Sedan' 'Sedan' 'Sedan'] 424    Sedan\n",
      "77     Sedan\n",
      "180    Sedan\n",
      "31     Sedan\n",
      "363    Sedan\n",
      "Name: Type, dtype: object "
     ]
    }
   ],
   "source": [
    "\n",
    "print(y_predicted[:5],end=\" \")\n",
    "print(y_test[:5],end=\" \")    \n"
   ]
  },
  {
   "cell_type": "code",
   "execution_count": 270,
   "id": "1f64d20b",
   "metadata": {},
   "outputs": [
    {
     "name": "stderr",
     "output_type": "stream",
     "text": [
      "c:\\Users\\PAWAN\\anaconda3\\envs\\project\\Lib\\site-packages\\sklearn\\metrics\\_classification.py:1565: UndefinedMetricWarning: Recall is ill-defined and being set to 0.0 in labels with no true samples. Use `zero_division` parameter to control this behavior.\n",
      "  _warn_prf(average, modifier, f\"{metric.capitalize()} is\", len(result))\n"
     ]
    },
    {
     "data": {
      "text/plain": [
       "(0.4117886178861788, 0.4928571428571429, 0.4149484536082474, None)"
      ]
     },
     "execution_count": 270,
     "metadata": {},
     "output_type": "execute_result"
    }
   ],
   "source": [
    "from sklearn.metrics import precision_recall_fscore_support\n",
    "\n",
    "precision_recall_fscore_support(y_predicted,y_test,average=\"macro\")"
   ]
  },
  {
   "cell_type": "code",
   "execution_count": 271,
   "id": "a15b40d7",
   "metadata": {},
   "outputs": [
    {
     "data": {
      "text/plain": [
       "Index(['Make', 'Model', 'Type', 'Origin', 'DriveTrain', 'MSRP', 'Invoice',\n",
       "       'EngineSize', 'Cylinders', 'Horsepower', 'MPG_City', 'MPG_Highway',\n",
       "       'Weight', 'Wheelbase', 'Length', 'MPG', 'Clusters', 'ProfitMargin',\n",
       "       'Price_per_HP', 'MPG_per_dollar', 'Value'],\n",
       "      dtype='object')"
      ]
     },
     "execution_count": 271,
     "metadata": {},
     "output_type": "execute_result"
    }
   ],
   "source": [
    "data.columns"
   ]
  },
  {
   "cell_type": "markdown",
   "id": "79e1ff67",
   "metadata": {},
   "source": [
    "Can we cluster cars into similar groups without using the Type column?\n",
    "\n"
   ]
  },
  {
   "cell_type": "code",
   "execution_count": 275,
   "id": "3f9d557a",
   "metadata": {},
   "outputs": [
    {
     "data": {
      "text/plain": [
       "Index(['Make', 'Model', 'Type', 'Origin', 'DriveTrain', 'MSRP', 'Invoice',\n",
       "       'EngineSize', 'Cylinders', 'Horsepower', 'MPG_City', 'MPG_Highway',\n",
       "       'Weight', 'Wheelbase', 'Length', 'MPG', 'Clusters', 'ProfitMargin',\n",
       "       'Price_per_HP', 'MPG_per_dollar', 'Value'],\n",
       "      dtype='object')"
      ]
     },
     "execution_count": 275,
     "metadata": {},
     "output_type": "execute_result"
    }
   ],
   "source": [
    "data.columns"
   ]
  },
  {
   "cell_type": "code",
   "execution_count": 286,
   "id": "e89979f9",
   "metadata": {},
   "outputs": [
    {
     "name": "stderr",
     "output_type": "stream",
     "text": [
      "C:\\Users\\PAWAN\\AppData\\Local\\Temp\\ipykernel_1020\\317157341.py:11: SettingWithCopyWarning: \n",
      "A value is trying to be set on a copy of a slice from a DataFrame.\n",
      "Try using .loc[row_indexer,col_indexer] = value instead\n",
      "\n",
      "See the caveats in the documentation: https://pandas.pydata.org/pandas-docs/stable/user_guide/indexing.html#returning-a-view-versus-a-copy\n",
      "  x2[i]= encoder.fit_transform(x2[i])\n",
      "C:\\Users\\PAWAN\\AppData\\Local\\Temp\\ipykernel_1020\\317157341.py:11: SettingWithCopyWarning: \n",
      "A value is trying to be set on a copy of a slice from a DataFrame.\n",
      "Try using .loc[row_indexer,col_indexer] = value instead\n",
      "\n",
      "See the caveats in the documentation: https://pandas.pydata.org/pandas-docs/stable/user_guide/indexing.html#returning-a-view-versus-a-copy\n",
      "  x2[i]= encoder.fit_transform(x2[i])\n",
      "C:\\Users\\PAWAN\\AppData\\Local\\Temp\\ipykernel_1020\\317157341.py:11: SettingWithCopyWarning: \n",
      "A value is trying to be set on a copy of a slice from a DataFrame.\n",
      "Try using .loc[row_indexer,col_indexer] = value instead\n",
      "\n",
      "See the caveats in the documentation: https://pandas.pydata.org/pandas-docs/stable/user_guide/indexing.html#returning-a-view-versus-a-copy\n",
      "  x2[i]= encoder.fit_transform(x2[i])\n",
      "C:\\Users\\PAWAN\\AppData\\Local\\Temp\\ipykernel_1020\\317157341.py:11: SettingWithCopyWarning: \n",
      "A value is trying to be set on a copy of a slice from a DataFrame.\n",
      "Try using .loc[row_indexer,col_indexer] = value instead\n",
      "\n",
      "See the caveats in the documentation: https://pandas.pydata.org/pandas-docs/stable/user_guide/indexing.html#returning-a-view-versus-a-copy\n",
      "  x2[i]= encoder.fit_transform(x2[i])\n"
     ]
    }
   ],
   "source": [
    "x2 = data[['Make', 'Model', 'Origin', 'DriveTrain', 'MSRP', 'Invoice',\n",
    "       'EngineSize', 'Cylinders', 'Horsepower', 'MPG_City', 'MPG_Highway',\n",
    "       'Weight', 'Wheelbase', 'Length']]\n",
    "\n",
    "from sklearn.preprocessing import LabelEncoder\n",
    "\n",
    "encoder= LabelEncoder()\n",
    "\n",
    "\n",
    "for i in x2.select_dtypes(\"object\").columns:\n",
    "       x2[i]= encoder.fit_transform(x2[i])"
   ]
  },
  {
   "cell_type": "code",
   "execution_count": 287,
   "id": "a51fc44c",
   "metadata": {},
   "outputs": [
    {
     "name": "stderr",
     "output_type": "stream",
     "text": [
      "C:\\Users\\PAWAN\\AppData\\Local\\Temp\\ipykernel_1020\\4161363749.py:1: SettingWithCopyWarning: \n",
      "A value is trying to be set on a copy of a slice from a DataFrame\n",
      "\n",
      "See the caveats in the documentation: https://pandas.pydata.org/pandas-docs/stable/user_guide/indexing.html#returning-a-view-versus-a-copy\n",
      "  x2.drop(columns=[\"Make\",\"Model\"],inplace=True)\n"
     ]
    }
   ],
   "source": [
    "x2.drop(columns=[\"Make\",\"Model\"],inplace=True)\n"
   ]
  },
  {
   "cell_type": "code",
   "execution_count": 290,
   "id": "3e34d163",
   "metadata": {},
   "outputs": [
    {
     "data": {
      "text/html": [
       "<div>\n",
       "<style scoped>\n",
       "    .dataframe tbody tr th:only-of-type {\n",
       "        vertical-align: middle;\n",
       "    }\n",
       "\n",
       "    .dataframe tbody tr th {\n",
       "        vertical-align: top;\n",
       "    }\n",
       "\n",
       "    .dataframe thead th {\n",
       "        text-align: right;\n",
       "    }\n",
       "</style>\n",
       "<table border=\"1\" class=\"dataframe\">\n",
       "  <thead>\n",
       "    <tr style=\"text-align: right;\">\n",
       "      <th></th>\n",
       "      <th>Origin</th>\n",
       "      <th>DriveTrain</th>\n",
       "      <th>MSRP</th>\n",
       "      <th>Invoice</th>\n",
       "      <th>EngineSize</th>\n",
       "      <th>Cylinders</th>\n",
       "      <th>Horsepower</th>\n",
       "      <th>MPG_City</th>\n",
       "      <th>MPG_Highway</th>\n",
       "      <th>Weight</th>\n",
       "      <th>Wheelbase</th>\n",
       "      <th>Length</th>\n",
       "    </tr>\n",
       "  </thead>\n",
       "  <tbody>\n",
       "    <tr>\n",
       "      <th>0</th>\n",
       "      <td>-1.0</td>\n",
       "      <td>-1.0</td>\n",
       "      <td>-0.707276</td>\n",
       "      <td>-0.713327</td>\n",
       "      <td>-0.391304</td>\n",
       "      <td>-0.333333</td>\n",
       "      <td>-0.100703</td>\n",
       "      <td>-0.72</td>\n",
       "      <td>-0.592593</td>\n",
       "      <td>-0.025843</td>\n",
       "      <td>-0.381818</td>\n",
       "      <td>-0.031579</td>\n",
       "    </tr>\n",
       "    <tr>\n",
       "      <th>1</th>\n",
       "      <td>-1.0</td>\n",
       "      <td>0.0</td>\n",
       "      <td>-0.851360</td>\n",
       "      <td>-0.854770</td>\n",
       "      <td>-0.826087</td>\n",
       "      <td>-0.777778</td>\n",
       "      <td>-0.405152</td>\n",
       "      <td>-0.44</td>\n",
       "      <td>-0.296296</td>\n",
       "      <td>-0.652434</td>\n",
       "      <td>-0.563636</td>\n",
       "      <td>-0.389474</td>\n",
       "    </tr>\n",
       "    <tr>\n",
       "      <th>2</th>\n",
       "      <td>-1.0</td>\n",
       "      <td>0.0</td>\n",
       "      <td>-0.816560</td>\n",
       "      <td>-0.819507</td>\n",
       "      <td>-0.710145</td>\n",
       "      <td>-0.777778</td>\n",
       "      <td>-0.405152</td>\n",
       "      <td>-0.52</td>\n",
       "      <td>-0.370370</td>\n",
       "      <td>-0.483146</td>\n",
       "      <td>-0.418182</td>\n",
       "      <td>-0.157895</td>\n",
       "    </tr>\n",
       "    <tr>\n",
       "      <th>3</th>\n",
       "      <td>-1.0</td>\n",
       "      <td>0.0</td>\n",
       "      <td>-0.748443</td>\n",
       "      <td>-0.750448</td>\n",
       "      <td>-0.478261</td>\n",
       "      <td>-0.333333</td>\n",
       "      <td>-0.077283</td>\n",
       "      <td>-0.60</td>\n",
       "      <td>-0.407407</td>\n",
       "      <td>-0.353933</td>\n",
       "      <td>-0.309091</td>\n",
       "      <td>-0.094737</td>\n",
       "    </tr>\n",
       "    <tr>\n",
       "      <th>4</th>\n",
       "      <td>-1.0</td>\n",
       "      <td>0.0</td>\n",
       "      <td>-0.632516</td>\n",
       "      <td>-0.643962</td>\n",
       "      <td>-0.391304</td>\n",
       "      <td>-0.333333</td>\n",
       "      <td>-0.288056</td>\n",
       "      <td>-0.68</td>\n",
       "      <td>-0.555556</td>\n",
       "      <td>-0.239700</td>\n",
       "      <td>-0.054545</td>\n",
       "      <td>0.136842</td>\n",
       "    </tr>\n",
       "    <tr>\n",
       "      <th>...</th>\n",
       "      <td>...</td>\n",
       "      <td>...</td>\n",
       "      <td>...</td>\n",
       "      <td>...</td>\n",
       "      <td>...</td>\n",
       "      <td>...</td>\n",
       "      <td>...</td>\n",
       "      <td>...</td>\n",
       "      <td>...</td>\n",
       "      <td>...</td>\n",
       "      <td>...</td>\n",
       "      <td>...</td>\n",
       "    </tr>\n",
       "    <tr>\n",
       "      <th>421</th>\n",
       "      <td>0.0</td>\n",
       "      <td>0.0</td>\n",
       "      <td>-0.667536</td>\n",
       "      <td>-0.653872</td>\n",
       "      <td>-0.710145</td>\n",
       "      <td>-0.555556</td>\n",
       "      <td>-0.419204</td>\n",
       "      <td>-0.56</td>\n",
       "      <td>-0.407407</td>\n",
       "      <td>-0.400749</td>\n",
       "      <td>-0.418182</td>\n",
       "      <td>-0.094737</td>\n",
       "    </tr>\n",
       "    <tr>\n",
       "      <th>422</th>\n",
       "      <td>0.0</td>\n",
       "      <td>0.0</td>\n",
       "      <td>-0.645580</td>\n",
       "      <td>-0.630901</td>\n",
       "      <td>-0.739130</td>\n",
       "      <td>-0.555556</td>\n",
       "      <td>-0.208431</td>\n",
       "      <td>-0.60</td>\n",
       "      <td>-0.481481</td>\n",
       "      <td>-0.400749</td>\n",
       "      <td>-0.418182</td>\n",
       "      <td>-0.094737</td>\n",
       "    </tr>\n",
       "    <tr>\n",
       "      <th>423</th>\n",
       "      <td>0.0</td>\n",
       "      <td>0.0</td>\n",
       "      <td>-0.616544</td>\n",
       "      <td>-0.600477</td>\n",
       "      <td>-0.565217</td>\n",
       "      <td>-0.333333</td>\n",
       "      <td>-0.086651</td>\n",
       "      <td>-0.64</td>\n",
       "      <td>-0.481481</td>\n",
       "      <td>-0.324719</td>\n",
       "      <td>-0.236364</td>\n",
       "      <td>-0.010526</td>\n",
       "    </tr>\n",
       "    <tr>\n",
       "      <th>424</th>\n",
       "      <td>0.0</td>\n",
       "      <td>0.0</td>\n",
       "      <td>-0.825946</td>\n",
       "      <td>-0.819580</td>\n",
       "      <td>-0.855072</td>\n",
       "      <td>-0.777778</td>\n",
       "      <td>-0.545667</td>\n",
       "      <td>-0.52</td>\n",
       "      <td>-0.370370</td>\n",
       "      <td>-0.635955</td>\n",
       "      <td>-0.563636</td>\n",
       "      <td>-0.221053</td>\n",
       "    </tr>\n",
       "    <tr>\n",
       "      <th>425</th>\n",
       "      <td>0.0</td>\n",
       "      <td>-1.0</td>\n",
       "      <td>-0.727036</td>\n",
       "      <td>-0.716077</td>\n",
       "      <td>-0.681159</td>\n",
       "      <td>-0.555556</td>\n",
       "      <td>-0.367681</td>\n",
       "      <td>-0.60</td>\n",
       "      <td>-0.444444</td>\n",
       "      <td>-0.261049</td>\n",
       "      <td>-0.272727</td>\n",
       "      <td>-0.094737</td>\n",
       "    </tr>\n",
       "  </tbody>\n",
       "</table>\n",
       "<p>426 rows × 12 columns</p>\n",
       "</div>"
      ],
      "text/plain": [
       "     Origin  DriveTrain      MSRP   Invoice  EngineSize  Cylinders  \\\n",
       "0      -1.0        -1.0 -0.707276 -0.713327   -0.391304  -0.333333   \n",
       "1      -1.0         0.0 -0.851360 -0.854770   -0.826087  -0.777778   \n",
       "2      -1.0         0.0 -0.816560 -0.819507   -0.710145  -0.777778   \n",
       "3      -1.0         0.0 -0.748443 -0.750448   -0.478261  -0.333333   \n",
       "4      -1.0         0.0 -0.632516 -0.643962   -0.391304  -0.333333   \n",
       "..      ...         ...       ...       ...         ...        ...   \n",
       "421     0.0         0.0 -0.667536 -0.653872   -0.710145  -0.555556   \n",
       "422     0.0         0.0 -0.645580 -0.630901   -0.739130  -0.555556   \n",
       "423     0.0         0.0 -0.616544 -0.600477   -0.565217  -0.333333   \n",
       "424     0.0         0.0 -0.825946 -0.819580   -0.855072  -0.777778   \n",
       "425     0.0        -1.0 -0.727036 -0.716077   -0.681159  -0.555556   \n",
       "\n",
       "     Horsepower  MPG_City  MPG_Highway    Weight  Wheelbase    Length  \n",
       "0     -0.100703     -0.72    -0.592593 -0.025843  -0.381818 -0.031579  \n",
       "1     -0.405152     -0.44    -0.296296 -0.652434  -0.563636 -0.389474  \n",
       "2     -0.405152     -0.52    -0.370370 -0.483146  -0.418182 -0.157895  \n",
       "3     -0.077283     -0.60    -0.407407 -0.353933  -0.309091 -0.094737  \n",
       "4     -0.288056     -0.68    -0.555556 -0.239700  -0.054545  0.136842  \n",
       "..          ...       ...          ...       ...        ...       ...  \n",
       "421   -0.419204     -0.56    -0.407407 -0.400749  -0.418182 -0.094737  \n",
       "422   -0.208431     -0.60    -0.481481 -0.400749  -0.418182 -0.094737  \n",
       "423   -0.086651     -0.64    -0.481481 -0.324719  -0.236364 -0.010526  \n",
       "424   -0.545667     -0.52    -0.370370 -0.635955  -0.563636 -0.221053  \n",
       "425   -0.367681     -0.60    -0.444444 -0.261049  -0.272727 -0.094737  \n",
       "\n",
       "[426 rows x 12 columns]"
      ]
     },
     "execution_count": 290,
     "metadata": {},
     "output_type": "execute_result"
    }
   ],
   "source": [
    "from sklearn.preprocessing import MinMaxScaler\n",
    "\n",
    "scaler = MinMaxScaler(feature_range=(-1,1))\n",
    "\n",
    "x2 = pd.DataFrame(scaler.fit_transform(x2),columns=x2.columns)\n",
    "x2"
   ]
  },
  {
   "cell_type": "code",
   "execution_count": 291,
   "id": "7d1b0803",
   "metadata": {},
   "outputs": [],
   "source": [
    "from sklearn.cluster import KMeans\n",
    "\n",
    "K = KMeans(n_clusters=6)\n",
    "\n",
    "x2[\"Predicted\"] = K.fit_predict(x2)"
   ]
  },
  {
   "cell_type": "code",
   "execution_count": 294,
   "id": "8638a685",
   "metadata": {},
   "outputs": [
    {
     "data": {
      "text/plain": [
       "0      4\n",
       "1      2\n",
       "2      2\n",
       "3      3\n",
       "4      3\n",
       "      ..\n",
       "421    3\n",
       "422    3\n",
       "423    3\n",
       "424    2\n",
       "425    4\n",
       "Name: Predicted, Length: 426, dtype: int32"
      ]
     },
     "execution_count": 294,
     "metadata": {},
     "output_type": "execute_result"
    }
   ],
   "source": [
    "x2[\"Predicted\"]"
   ]
  },
  {
   "cell_type": "markdown",
   "id": "60f6ee65",
   "metadata": {},
   "source": [
    "What are the most important features influencing car prices?"
   ]
  },
  {
   "cell_type": "code",
   "execution_count": null,
   "id": "7b678c9b",
   "metadata": {},
   "outputs": [],
   "source": []
  },
  {
   "cell_type": "markdown",
   "id": "641d9eb6",
   "metadata": {},
   "source": [
    "\n",
    "\n",
    "🔹 7. Visualization-Oriented Questions\n",
    "\n",
    "What does the distribution of MSRP look like (histogram)?\n",
    "\n",
    "What is the correlation heatmap of all numerical features?\n",
    "\n",
    "Boxplot of MSRP by Type (to compare car types).\n",
    "\n",
    "Scatterplot of Horsepower vs MSRP (with color = Type).\n",
    "\n",
    "Bar chart of average MPG_City by Origin.\n",
    "\n",
    "Trend: How does Weight affect Highway MPG?"
   ]
  },
  {
   "cell_type": "markdown",
   "id": "71c79d7a",
   "metadata": {},
   "source": []
  }
 ],
 "metadata": {
  "kernelspec": {
   "display_name": "project",
   "language": "python",
   "name": "python3"
  },
  "language_info": {
   "codemirror_mode": {
    "name": "ipython",
    "version": 3
   },
   "file_extension": ".py",
   "mimetype": "text/x-python",
   "name": "python",
   "nbconvert_exporter": "python",
   "pygments_lexer": "ipython3",
   "version": "3.11.11"
  }
 },
 "nbformat": 4,
 "nbformat_minor": 5
}
